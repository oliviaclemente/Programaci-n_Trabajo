{
 "cells": [
  {
   "attachments": {},
   "cell_type": "markdown",
   "metadata": {},
   "source": [
    "1. Lectura y exploración inicial del dataset:"
   ]
  },
  {
   "attachments": {},
   "cell_type": "markdown",
   "metadata": {},
   "source": [
    "a)Importen las librerías numpy y pandas"
   ]
  },
  {
   "cell_type": "code",
   "execution_count": 6,
   "metadata": {},
   "outputs": [],
   "source": [
    "import numpy as np\n",
    "import pandas as pd\n"
   ]
  },
  {
   "attachments": {},
   "cell_type": "markdown",
   "metadata": {},
   "source": [
    "b)Lean el dataset descargado de Kaggle utilizando pandas."
   ]
  },
  {
   "cell_type": "code",
   "execution_count": 11,
   "metadata": {},
   "outputs": [],
   "source": [
    "archivo = 'Auto_Sales_data.csv'\n",
    "data = pd.read_csv(archivo)  # Utiliza pd.read_csv() para cargar los datos desde un archivo CSV"
   ]
  },
  {
   "attachments": {},
   "cell_type": "markdown",
   "metadata": {},
   "source": [
    "c)Muestren las primeras y últimas filas del dataset."
   ]
  },
  {
   "cell_type": "code",
   "execution_count": 12,
   "metadata": {},
   "outputs": [
    {
     "name": "stdout",
     "output_type": "stream",
     "text": [
      "Primeras filas:    ORDERNUMBER  QUANTITYORDERED  PRICEEACH  ORDERLINENUMBER    SALES  \\\n",
      "0        10107               30      95.70                2  2871.00   \n",
      "1        10121               34      81.35                5  2765.90   \n",
      "2        10134               41      94.74                2  3884.34   \n",
      "3        10145               45      83.26                6  3746.70   \n",
      "4        10168               36      96.66                1  3479.76   \n",
      "\n",
      "    ORDERDATE  DAYS_SINCE_LASTORDER   STATUS  PRODUCTLINE  MSRP PRODUCTCODE  \\\n",
      "0  24/02/2018                   828  Shipped  Motorcycles    95    S10_1678   \n",
      "1  07/05/2018                   757  Shipped  Motorcycles    95    S10_1678   \n",
      "2  01/07/2018                   703  Shipped  Motorcycles    95    S10_1678   \n",
      "3  25/08/2018                   649  Shipped  Motorcycles    95    S10_1678   \n",
      "4  28/10/2018                   586  Shipped  Motorcycles    95    S10_1678   \n",
      "\n",
      "           CUSTOMERNAME             PHONE                   ADDRESSLINE1  \\\n",
      "0     Land of Toys Inc.        2125557818        897 Long Airport Avenue   \n",
      "1    Reims Collectables        26.47.1555             59 rue de l'Abbaye   \n",
      "2       Lyon Souveniers  +33 1 46 62 7555  27 rue du Colonel Pierre Avia   \n",
      "3     Toys4GrownUps.com        6265557265             78934 Hillside Dr.   \n",
      "4  Technics Stores Inc.        6505556809              9408 Furth Circle   \n",
      "\n",
      "         CITY POSTALCODE COUNTRY CONTACTLASTNAME CONTACTFIRSTNAME DEALSIZE  \n",
      "0         NYC      10022     USA              Yu             Kwai    Small  \n",
      "1       Reims      51100  France         Henriot             Paul    Small  \n",
      "2       Paris      75508  France        Da Cunha           Daniel   Medium  \n",
      "3    Pasadena      90003     USA           Young            Julie   Medium  \n",
      "4  Burlingame      94217     USA          Hirano             Juri   Medium  \n",
      "Últimas 5 filas:       ORDERNUMBER  QUANTITYORDERED  PRICEEACH  ORDERLINENUMBER    SALES  \\\n",
      "2742        10350               20     112.22               15  2244.40   \n",
      "2743        10373               29     137.19                1  3978.51   \n",
      "2744        10386               43     125.99                4  5417.57   \n",
      "2745        10397               34      62.24                1  2116.16   \n",
      "2746        10414               47      65.52                9  3079.44   \n",
      "\n",
      "       ORDERDATE  DAYS_SINCE_LASTORDER    STATUS PRODUCTLINE  MSRP  \\\n",
      "2742  02/12/2019                  2924   Shipped       Ships    54   \n",
      "2743  31/01/2020                  2865   Shipped       Ships    54   \n",
      "2744  01/03/2020                  2836  Resolved       Ships    54   \n",
      "2745  28/03/2020                  2810   Shipped       Ships    54   \n",
      "2746  06/05/2020                  2772   On Hold       Ships    54   \n",
      "\n",
      "     PRODUCTCODE             CUSTOMERNAME           PHONE  \\\n",
      "2742    S72_3212    Euro Shopping Channel  (91) 555 94 44   \n",
      "2743    S72_3212  Oulu Toy Supplies, Inc.      981-443655   \n",
      "2744    S72_3212    Euro Shopping Channel  (91) 555 94 44   \n",
      "2745    S72_3212             Alpha Cognac      61.77.6555   \n",
      "2746    S72_3212        Gifts4AllAges.com      6175559555   \n",
      "\n",
      "               ADDRESSLINE1      CITY POSTALCODE  COUNTRY CONTACTLASTNAME  \\\n",
      "2742     C/ Moralzarzal, 86    Madrid      28034    Spain          Freyre   \n",
      "2743            Torikatu 38      Oulu      90110  Finland       Koskitalo   \n",
      "2744     C/ Moralzarzal, 86    Madrid      28034    Spain          Freyre   \n",
      "2745  1 rue Alsace-Lorraine  Toulouse      31000   France          Roulet   \n",
      "2746     8616 Spinnaker Dr.    Boston      51003      USA         Yoshido   \n",
      "\n",
      "     CONTACTFIRSTNAME DEALSIZE  \n",
      "2742            Diego    Small  \n",
      "2743           Pirkko   Medium  \n",
      "2744            Diego   Medium  \n",
      "2745          Annette    Small  \n",
      "2746             Juri   Medium  \n"
     ]
    }
   ],
   "source": [
    "primeras = data.head()\n",
    "ultimas = data.tail()\n",
    "\n",
    "# Imprime las primeras y las últimas filas\n",
    "print(f\"Primeras filas: {primeras}\")\n",
    "print(f\"Últimas 5 filas: {ultimas}\")"
   ]
  },
  {
   "attachments": {},
   "cell_type": "markdown",
   "metadata": {},
   "source": [
    "d)Obtengan información general del dataset, como el número de filas y\n",
    "columnas, y los tipos de datos"
   ]
  },
  {
   "cell_type": "code",
   "execution_count": 13,
   "metadata": {},
   "outputs": [
    {
     "name": "stdout",
     "output_type": "stream",
     "text": [
      "<class 'pandas.core.frame.DataFrame'>\n",
      "RangeIndex: 2747 entries, 0 to 2746\n",
      "Data columns (total 20 columns):\n",
      " #   Column                Non-Null Count  Dtype  \n",
      "---  ------                --------------  -----  \n",
      " 0   ORDERNUMBER           2747 non-null   int64  \n",
      " 1   QUANTITYORDERED       2747 non-null   int64  \n",
      " 2   PRICEEACH             2747 non-null   float64\n",
      " 3   ORDERLINENUMBER       2747 non-null   int64  \n",
      " 4   SALES                 2747 non-null   float64\n",
      " 5   ORDERDATE             2747 non-null   object \n",
      " 6   DAYS_SINCE_LASTORDER  2747 non-null   int64  \n",
      " 7   STATUS                2747 non-null   object \n",
      " 8   PRODUCTLINE           2747 non-null   object \n",
      " 9   MSRP                  2747 non-null   int64  \n",
      " 10  PRODUCTCODE           2747 non-null   object \n",
      " 11  CUSTOMERNAME          2747 non-null   object \n",
      " 12  PHONE                 2747 non-null   object \n",
      " 13  ADDRESSLINE1          2747 non-null   object \n",
      " 14  CITY                  2747 non-null   object \n",
      " 15  POSTALCODE            2747 non-null   object \n",
      " 16  COUNTRY               2747 non-null   object \n",
      " 17  CONTACTLASTNAME       2747 non-null   object \n",
      " 18  CONTACTFIRSTNAME      2747 non-null   object \n",
      " 19  DEALSIZE              2747 non-null   object \n",
      "dtypes: float64(2), int64(5), object(13)\n",
      "memory usage: 429.3+ KB\n",
      "Número de filas: 2747\n",
      "Número de columnas: 20\n",
      "Tipos de datos de cada columna:ORDERNUMBER               int64\n",
      "QUANTITYORDERED           int64\n",
      "PRICEEACH               float64\n",
      "ORDERLINENUMBER           int64\n",
      "SALES                   float64\n",
      "ORDERDATE                object\n",
      "DAYS_SINCE_LASTORDER      int64\n",
      "STATUS                   object\n",
      "PRODUCTLINE              object\n",
      "MSRP                      int64\n",
      "PRODUCTCODE              object\n",
      "CUSTOMERNAME             object\n",
      "PHONE                    object\n",
      "ADDRESSLINE1             object\n",
      "CITY                     object\n",
      "POSTALCODE               object\n",
      "COUNTRY                  object\n",
      "CONTACTLASTNAME          object\n",
      "CONTACTFIRSTNAME         object\n",
      "DEALSIZE                 object\n",
      "dtype: object\n"
     ]
    }
   ],
   "source": [
    "info = data.info()   # Muestra info del csv\n",
    "\n",
    "nfilas, ncolumnas = data.shape\n",
    "print(f\"Número de filas: {nfilas}\")\n",
    "print(f\"Número de columnas: {ncolumnas}\")\n",
    "\n",
    "tipos = data.dtypes\n",
    "print(f\"Tipos de datos de cada columna:{tipos}\")"
   ]
  },
  {
   "attachments": {},
   "cell_type": "markdown",
   "metadata": {},
   "source": [
    "2. Limpieza y preprocesamiento de datos:"
   ]
  },
  {
   "attachments": {},
   "cell_type": "markdown",
   "metadata": {},
   "source": [
    "a)Identifiquen y traten o imputen los valores faltantes NaN usando una\n",
    "función personalizada que use la moda/media para remplazarlos. En\n",
    "caso de no haber filas con NaN, todo dato que esté por encima o por\n",
    "debajo de dos desviaciones típicas de la media tendrá que imputarse\n",
    "por la moda/media."
   ]
  },
  {
   "cell_type": "code",
   "execution_count": null,
   "metadata": {},
   "outputs": [],
   "source": []
  },
  {
   "attachments": {},
   "cell_type": "markdown",
   "metadata": {},
   "source": [
    "b) Conviertan los tipos de datos de las columnas si es necesario."
   ]
  },
  {
   "cell_type": "code",
   "execution_count": null,
   "metadata": {},
   "outputs": [],
   "source": []
  },
  {
   "attachments": {},
   "cell_type": "markdown",
   "metadata": {},
   "source": [
    "c)Renombren las columnas para facilitar su manipulación."
   ]
  },
  {
   "cell_type": "code",
   "execution_count": null,
   "metadata": {},
   "outputs": [],
   "source": []
  },
  {
   "attachments": {},
   "cell_type": "markdown",
   "metadata": {},
   "source": [
    "3. Análisis exploratorio de datos (EDA):"
   ]
  },
  {
   "attachments": {},
   "cell_type": "markdown",
   "metadata": {},
   "source": [
    "a) Calculen estadísticas básicas de las columnas numéricas media,\n",
    "mediana, desviación estándar usando funciones personalizadas que\n",
    "tendréis que crear vosotros"
   ]
  },
  {
   "cell_type": "code",
   "execution_count": null,
   "metadata": {},
   "outputs": [],
   "source": []
  },
  {
   "attachments": {},
   "cell_type": "markdown",
   "metadata": {},
   "source": [
    "b) Crear gráficos para visualizar la distribución de los datos, como\n",
    "histogramas y diagramas de caja."
   ]
  },
  {
   "cell_type": "code",
   "execution_count": null,
   "metadata": {},
   "outputs": [],
   "source": []
  },
  {
   "attachments": {},
   "cell_type": "markdown",
   "metadata": {},
   "source": [
    "c) Identifiquen y analicen las correlaciones entre variables."
   ]
  },
  {
   "cell_type": "code",
   "execution_count": null,
   "metadata": {},
   "outputs": [],
   "source": []
  },
  {
   "attachments": {},
   "cell_type": "markdown",
   "metadata": {},
   "source": [
    "4. Manipulación de datos usando condicionales y bucles:"
   ]
  },
  {
   "attachments": {},
   "cell_type": "markdown",
   "metadata": {},
   "source": [
    "a) Filtrar el dataset utilizando condiciones específicas."
   ]
  },
  {
   "cell_type": "code",
   "execution_count": null,
   "metadata": {},
   "outputs": [],
   "source": []
  },
  {
   "attachments": {},
   "cell_type": "markdown",
   "metadata": {},
   "source": [
    "b) Crear nuevas columnas aplicando funciones o cálculos basados en\n",
    "valores de otras columnas."
   ]
  },
  {
   "cell_type": "code",
   "execution_count": null,
   "metadata": {},
   "outputs": [],
   "source": []
  },
  {
   "attachments": {},
   "cell_type": "markdown",
   "metadata": {},
   "source": [
    "c) Utilizar bucles para iterar sobre filas o columnas y realizar cálculos."
   ]
  },
  {
   "cell_type": "code",
   "execution_count": null,
   "metadata": {},
   "outputs": [],
   "source": []
  },
  {
   "attachments": {},
   "cell_type": "markdown",
   "metadata": {},
   "source": [
    "5. Manejo de excepciones:"
   ]
  },
  {
   "attachments": {},
   "cell_type": "markdown",
   "metadata": {},
   "source": [
    "a) Utilizar bloques try-except para manejar errores o excepciones al leer\n",
    "o procesar el dataset."
   ]
  },
  {
   "cell_type": "code",
   "execution_count": null,
   "metadata": {},
   "outputs": [],
   "source": []
  },
  {
   "attachments": {},
   "cell_type": "markdown",
   "metadata": {},
   "source": [
    "b) Crear excepciones personalizadas para manejar situaciones\n",
    "específicas del análisis."
   ]
  },
  {
   "cell_type": "code",
   "execution_count": null,
   "metadata": {},
   "outputs": [],
   "source": []
  }
 ],
 "metadata": {
  "kernelspec": {
   "display_name": "Python 3",
   "language": "python",
   "name": "python3"
  },
  "language_info": {
   "codemirror_mode": {
    "name": "ipython",
    "version": 3
   },
   "file_extension": ".py",
   "mimetype": "text/x-python",
   "name": "python",
   "nbconvert_exporter": "python",
   "pygments_lexer": "ipython3",
   "version": "3.11.1"
  },
  "orig_nbformat": 4,
  "vscode": {
   "interpreter": {
    "hash": "aee8b7b246df8f9039afb4144a1f6fd8d2ca17a180786b69acc140d282b71a49"
   }
  }
 },
 "nbformat": 4,
 "nbformat_minor": 2
}
