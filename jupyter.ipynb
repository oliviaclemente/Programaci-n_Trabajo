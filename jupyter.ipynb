{
 "cells": [
  {
   "cell_type": "markdown",
   "metadata": {},
   "source": [
    "# **Trabajo final en Python: Análisis de un dataset**"
   ]
  },
  {
   "cell_type": "markdown",
   "metadata": {},
   "source": [
    "___"
   ]
  },
  {
   "cell_type": "markdown",
   "metadata": {},
   "source": [
    "## 1. Lectura y exploración inicial del dataset:"
   ]
  },
  {
   "attachments": {},
   "cell_type": "markdown",
   "metadata": {},
   "source": [
    "    a)Importen las librerías numpy y pandas"
   ]
  },
  {
   "cell_type": "code",
   "execution_count": 49,
   "metadata": {},
   "outputs": [],
   "source": [
    "import numpy as np\n",
    "import pandas as pd"
   ]
  },
  {
   "attachments": {},
   "cell_type": "markdown",
   "metadata": {},
   "source": [
    "    b)Lean el dataset descargado de Kaggle utilizando pandas."
   ]
  },
  {
   "cell_type": "code",
   "execution_count": 50,
   "metadata": {},
   "outputs": [],
   "source": [
    "archivo = 'Auto_Sales_data.csv'\n",
    "data = pd.read_csv(archivo)  # Utiliza pd.read_csv() para cargar los datos desde un archivo CSV"
   ]
  },
  {
   "attachments": {},
   "cell_type": "markdown",
   "metadata": {},
   "source": [
    "    c)Muestren las primeras y últimas filas del dataset."
   ]
  },
  {
   "cell_type": "code",
   "execution_count": 51,
   "metadata": {},
   "outputs": [
    {
     "name": "stdout",
     "output_type": "stream",
     "text": [
      "Primeras filas:    ORDERNUMBER  QUANTITYORDERED  PRICEEACH  ORDERLINENUMBER    SALES  \\\n",
      "0        10107               30      95.70                2  2871.00   \n",
      "1        10121               34      81.35                5  2765.90   \n",
      "2        10134               41      94.74                2  3884.34   \n",
      "3        10145               45      83.26                6  3746.70   \n",
      "4        10168               36      96.66                1  3479.76   \n",
      "\n",
      "    ORDERDATE  DAYS_SINCE_LASTORDER   STATUS  PRODUCTLINE  MSRP PRODUCTCODE  \\\n",
      "0  24/02/2018                   828  Shipped  Motorcycles    95    S10_1678   \n",
      "1  07/05/2018                   757  Shipped  Motorcycles    95    S10_1678   \n",
      "2  01/07/2018                   703  Shipped  Motorcycles    95    S10_1678   \n",
      "3  25/08/2018                   649  Shipped  Motorcycles    95    S10_1678   \n",
      "4  28/10/2018                   586  Shipped  Motorcycles    95    S10_1678   \n",
      "\n",
      "           CUSTOMERNAME             PHONE                   ADDRESSLINE1  \\\n",
      "0     Land of Toys Inc.        2125557818        897 Long Airport Avenue   \n",
      "1    Reims Collectables        26.47.1555             59 rue de l'Abbaye   \n",
      "2       Lyon Souveniers  +33 1 46 62 7555  27 rue du Colonel Pierre Avia   \n",
      "3     Toys4GrownUps.com        6265557265             78934 Hillside Dr.   \n",
      "4  Technics Stores Inc.        6505556809              9408 Furth Circle   \n",
      "\n",
      "         CITY POSTALCODE COUNTRY CONTACTLASTNAME CONTACTFIRSTNAME DEALSIZE  \n",
      "0         NYC      10022     USA              Yu             Kwai    Small  \n",
      "1       Reims      51100  France         Henriot             Paul    Small  \n",
      "2       Paris      75508  France        Da Cunha           Daniel   Medium  \n",
      "3    Pasadena      90003     USA           Young            Julie   Medium  \n",
      "4  Burlingame      94217     USA          Hirano             Juri   Medium  \n",
      "Últimas 5 filas:       ORDERNUMBER  QUANTITYORDERED  PRICEEACH  ORDERLINENUMBER    SALES  \\\n",
      "2742        10350               20     112.22               15  2244.40   \n",
      "2743        10373               29     137.19                1  3978.51   \n",
      "2744        10386               43     125.99                4  5417.57   \n",
      "2745        10397               34      62.24                1  2116.16   \n",
      "2746        10414               47      65.52                9  3079.44   \n",
      "\n",
      "       ORDERDATE  DAYS_SINCE_LASTORDER    STATUS PRODUCTLINE  MSRP  \\\n",
      "2742  02/12/2019                  2924   Shipped       Ships    54   \n",
      "2743  31/01/2020                  2865   Shipped       Ships    54   \n",
      "2744  01/03/2020                  2836  Resolved       Ships    54   \n",
      "2745  28/03/2020                  2810   Shipped       Ships    54   \n",
      "2746  06/05/2020                  2772   On Hold       Ships    54   \n",
      "\n",
      "     PRODUCTCODE             CUSTOMERNAME           PHONE  \\\n",
      "2742    S72_3212    Euro Shopping Channel  (91) 555 94 44   \n",
      "2743    S72_3212  Oulu Toy Supplies, Inc.      981-443655   \n",
      "2744    S72_3212    Euro Shopping Channel  (91) 555 94 44   \n",
      "2745    S72_3212             Alpha Cognac      61.77.6555   \n",
      "2746    S72_3212        Gifts4AllAges.com      6175559555   \n",
      "\n",
      "               ADDRESSLINE1      CITY POSTALCODE  COUNTRY CONTACTLASTNAME  \\\n",
      "2742     C/ Moralzarzal, 86    Madrid      28034    Spain          Freyre   \n",
      "2743            Torikatu 38      Oulu      90110  Finland       Koskitalo   \n",
      "2744     C/ Moralzarzal, 86    Madrid      28034    Spain          Freyre   \n",
      "2745  1 rue Alsace-Lorraine  Toulouse      31000   France          Roulet   \n",
      "2746     8616 Spinnaker Dr.    Boston      51003      USA         Yoshido   \n",
      "\n",
      "     CONTACTFIRSTNAME DEALSIZE  \n",
      "2742            Diego    Small  \n",
      "2743           Pirkko   Medium  \n",
      "2744            Diego   Medium  \n",
      "2745          Annette    Small  \n",
      "2746             Juri   Medium  \n"
     ]
    }
   ],
   "source": [
    "primeras = data.head()\n",
    "ultimas = data.tail()\n",
    "\n",
    "# Imprime las primeras y las últimas filas\n",
    "print(f\"Primeras filas: {primeras}\")\n",
    "print(f\"Últimas 5 filas: {ultimas}\")"
   ]
  },
  {
   "attachments": {},
   "cell_type": "markdown",
   "metadata": {},
   "source": [
    "    d)Obtengan información general del dataset, como el número de filas y columnas, y los tipos de datos"
   ]
  },
  {
   "cell_type": "code",
   "execution_count": 52,
   "metadata": {},
   "outputs": [
    {
     "name": "stdout",
     "output_type": "stream",
     "text": [
      "<class 'pandas.core.frame.DataFrame'>\n",
      "RangeIndex: 2747 entries, 0 to 2746\n",
      "Data columns (total 20 columns):\n",
      " #   Column                Non-Null Count  Dtype  \n",
      "---  ------                --------------  -----  \n",
      " 0   ORDERNUMBER           2747 non-null   int64  \n",
      " 1   QUANTITYORDERED       2747 non-null   int64  \n",
      " 2   PRICEEACH             2747 non-null   float64\n",
      " 3   ORDERLINENUMBER       2747 non-null   int64  \n",
      " 4   SALES                 2747 non-null   float64\n",
      " 5   ORDERDATE             2747 non-null   object \n",
      " 6   DAYS_SINCE_LASTORDER  2747 non-null   int64  \n",
      " 7   STATUS                2747 non-null   object \n",
      " 8   PRODUCTLINE           2747 non-null   object \n",
      " 9   MSRP                  2747 non-null   int64  \n",
      " 10  PRODUCTCODE           2747 non-null   object \n",
      " 11  CUSTOMERNAME          2747 non-null   object \n",
      " 12  PHONE                 2747 non-null   object \n",
      " 13  ADDRESSLINE1          2747 non-null   object \n",
      " 14  CITY                  2747 non-null   object \n",
      " 15  POSTALCODE            2747 non-null   object \n",
      " 16  COUNTRY               2747 non-null   object \n",
      " 17  CONTACTLASTNAME       2747 non-null   object \n",
      " 18  CONTACTFIRSTNAME      2747 non-null   object \n",
      " 19  DEALSIZE              2747 non-null   object \n",
      "dtypes: float64(2), int64(5), object(13)\n",
      "memory usage: 429.3+ KB\n",
      "Número de filas: 2747\n",
      "Número de columnas: 20\n",
      "Tipos de datos de cada columna:ORDERNUMBER               int64\n",
      "QUANTITYORDERED           int64\n",
      "PRICEEACH               float64\n",
      "ORDERLINENUMBER           int64\n",
      "SALES                   float64\n",
      "ORDERDATE                object\n",
      "DAYS_SINCE_LASTORDER      int64\n",
      "STATUS                   object\n",
      "PRODUCTLINE              object\n",
      "MSRP                      int64\n",
      "PRODUCTCODE              object\n",
      "CUSTOMERNAME             object\n",
      "PHONE                    object\n",
      "ADDRESSLINE1             object\n",
      "CITY                     object\n",
      "POSTALCODE               object\n",
      "COUNTRY                  object\n",
      "CONTACTLASTNAME          object\n",
      "CONTACTFIRSTNAME         object\n",
      "DEALSIZE                 object\n",
      "dtype: object\n"
     ]
    }
   ],
   "source": [
    "info = data.info()   # Muestra info del csv\n",
    "\n",
    "nfilas, ncolumnas = data.shape\n",
    "print(f\"Número de filas: {nfilas}\")\n",
    "print(f\"Número de columnas: {ncolumnas}\")\n",
    "\n",
    "tipos = data.dtypes\n",
    "print(f\"Tipos de datos de cada columna:{tipos}\")"
   ]
  },
  {
   "cell_type": "markdown",
   "metadata": {},
   "source": [
    "___"
   ]
  },
  {
   "attachments": {},
   "cell_type": "markdown",
   "metadata": {},
   "source": [
    "## 2. Limpieza y preprocesamiento de datos:"
   ]
  },
  {
   "attachments": {},
   "cell_type": "markdown",
   "metadata": {},
   "source": [
    "    a)Identifiquen y traten o imputen los valores faltantes NaN usando una función personalizada que use la moda/media para remplazarlos. En caso de no haber filas con NaN, todo dato que esté por encima o por debajo de dos desviaciones típicas de la media tendrá que imputarse por la moda/media."
   ]
  },
  {
   "cell_type": "code",
   "execution_count": 53,
   "metadata": {},
   "outputs": [
    {
     "name": "stdout",
     "output_type": "stream",
     "text": [
      "      ORDERNUMBER  QUANTITYORDERED  PRICEEACH  ORDERLINENUMBER    SALES  \\\n",
      "0         10107.0             30.0      95.70         2.000000  2871.00   \n",
      "1         10121.0             34.0      81.35         5.000000  2765.90   \n",
      "2         10134.0             41.0      94.74         2.000000  3884.34   \n",
      "3         10145.0             45.0      83.26         6.000000  3746.70   \n",
      "4         10168.0             36.0      96.66         1.000000  3479.76   \n",
      "...           ...              ...        ...              ...      ...   \n",
      "2742      10350.0             20.0     112.22         6.491081  2244.40   \n",
      "2743      10373.0             29.0     137.19         1.000000  3978.51   \n",
      "2744      10386.0             43.0     125.99         4.000000  5417.57   \n",
      "2745      10397.0             34.0      62.24         1.000000  2116.16   \n",
      "2746      10414.0             47.0      65.52         9.000000  3079.44   \n",
      "\n",
      "       ORDERDATE  DAYS_SINCE_LASTORDER    STATUS  PRODUCTLINE  MSRP  \\\n",
      "0     24/02/2018                 828.0   Shipped  Motorcycles  95.0   \n",
      "1     07/05/2018                 757.0   Shipped  Motorcycles  95.0   \n",
      "2     01/07/2018                 703.0   Shipped  Motorcycles  95.0   \n",
      "3     25/08/2018                 649.0   Shipped  Motorcycles  95.0   \n",
      "4     28/10/2018                 586.0   Shipped  Motorcycles  95.0   \n",
      "...          ...                   ...       ...          ...   ...   \n",
      "2742  02/12/2019                2924.0   Shipped        Ships  54.0   \n",
      "2743  31/01/2020                2865.0   Shipped        Ships  54.0   \n",
      "2744  01/03/2020                2836.0  Resolved        Ships  54.0   \n",
      "2745  28/03/2020                2810.0   Shipped        Ships  54.0   \n",
      "2746  06/05/2020                2772.0   On Hold        Ships  54.0   \n",
      "\n",
      "     PRODUCTCODE             CUSTOMERNAME             PHONE  \\\n",
      "0       S10_1678        Land of Toys Inc.        2125557818   \n",
      "1       S10_1678       Reims Collectables        26.47.1555   \n",
      "2       S10_1678          Lyon Souveniers  +33 1 46 62 7555   \n",
      "3       S10_1678        Toys4GrownUps.com        6265557265   \n",
      "4       S10_1678     Technics Stores Inc.        6505556809   \n",
      "...          ...                      ...               ...   \n",
      "2742    S72_3212    Euro Shopping Channel    (91) 555 94 44   \n",
      "2743    S72_3212  Oulu Toy Supplies, Inc.        981-443655   \n",
      "2744    S72_3212    Euro Shopping Channel    (91) 555 94 44   \n",
      "2745    S72_3212             Alpha Cognac        61.77.6555   \n",
      "2746    S72_3212        Gifts4AllAges.com        6175559555   \n",
      "\n",
      "                       ADDRESSLINE1        CITY POSTALCODE  COUNTRY  \\\n",
      "0           897 Long Airport Avenue         NYC      10022      USA   \n",
      "1                59 rue de l'Abbaye       Reims      51100   France   \n",
      "2     27 rue du Colonel Pierre Avia       Paris      75508   France   \n",
      "3                78934 Hillside Dr.    Pasadena      90003      USA   \n",
      "4                 9408 Furth Circle  Burlingame      94217      USA   \n",
      "...                             ...         ...        ...      ...   \n",
      "2742             C/ Moralzarzal, 86      Madrid      28034    Spain   \n",
      "2743                    Torikatu 38        Oulu      90110  Finland   \n",
      "2744             C/ Moralzarzal, 86      Madrid      28034    Spain   \n",
      "2745          1 rue Alsace-Lorraine    Toulouse      31000   France   \n",
      "2746             8616 Spinnaker Dr.      Boston      51003      USA   \n",
      "\n",
      "     CONTACTLASTNAME CONTACTFIRSTNAME DEALSIZE  \n",
      "0                 Yu             Kwai    Small  \n",
      "1            Henriot             Paul    Small  \n",
      "2           Da Cunha           Daniel   Medium  \n",
      "3              Young            Julie   Medium  \n",
      "4             Hirano             Juri   Medium  \n",
      "...              ...              ...      ...  \n",
      "2742          Freyre            Diego    Small  \n",
      "2743       Koskitalo           Pirkko   Medium  \n",
      "2744          Freyre            Diego   Medium  \n",
      "2745          Roulet          Annette    Small  \n",
      "2746         Yoshido             Juri   Medium  \n",
      "\n",
      "[2747 rows x 20 columns]\n"
     ]
    }
   ],
   "source": [
    "import pandas as pd\n",
    "import numpy as np\n",
    "\n",
    "archivo = 'Auto_Sales_data.csv'\n",
    "df = pd.read_csv(archivo)  # Utiliza pd.read_csv() para cargar los datos desde un archivo CSV\n",
    "\n",
    "# Función para reemplazar NaN con la moda o la media\n",
    "def replace_nan(df, column, method='mean'):\n",
    "    if df[column].isnull().sum() > 0:\n",
    "        if method == 'mean':\n",
    "            df[column].fillna(df[column].mean(), inplace=True)\n",
    "        elif method == 'mode':\n",
    "            df[column].fillna(df[column].mode()[0], inplace=True)\n",
    "\n",
    "# Aplicar la función a todas las columnas\n",
    "for column in df.columns:\n",
    "    replace_nan(df, column)\n",
    "\n",
    "# Tratar valores fuera de 2 desviaciones estándar\n",
    "for column in df.select_dtypes(include=[np.number]).columns:\n",
    "    mean = df[column].mean()\n",
    "    std = df[column].std()\n",
    "    upper_bound = mean + 2*std\n",
    "    lower_bound = mean - 2*std\n",
    "    df[column] = np.where((df[column] > upper_bound) | (df[column] < lower_bound), df[column].mean(), df[column])\n",
    "    \n",
    "print(df)"
   ]
  },
  {
   "attachments": {},
   "cell_type": "markdown",
   "metadata": {},
   "source": [
    "    b) Conviertan los tipos de datos de las columnas si es necesario."
   ]
  },
  {
   "cell_type": "code",
   "execution_count": null,
   "metadata": {},
   "outputs": [],
   "source": []
  },
  {
   "attachments": {},
   "cell_type": "markdown",
   "metadata": {},
   "source": [
    "    c)Renombren las columnas para facilitar su manipulación."
   ]
  },
  {
   "cell_type": "code",
   "execution_count": 71,
   "metadata": {},
   "outputs": [
    {
     "name": "stdout",
     "output_type": "stream",
     "text": [
      "Index(['numero_del_pedido', 'cantidad_de_pedidos', 'precio_cada_pedido',\n",
      "       'numero_linea_pedido', 'ventas', 'fecha_pedido',\n",
      "       'dias_desde_ultimo_pedido', 'status', 'linea_producto',\n",
      "       'precio_venta_sugerido', 'codigo_producto', 'nombre_cliente',\n",
      "       'telefono', 'direccion_linea1', 'ciudad', 'codigo_postal', 'pais',\n",
      "       'apellido_contacto', 'nombre_contacto', 'tamaño_acuerdo'],\n",
      "      dtype='object')\n"
     ]
    }
   ],
   "source": [
    "df.columns = ['numero_del_pedido', 'cantidad_de_pedidos','precio_cada_pedido','numero_linea_pedido','ventas','fecha_pedido','dias_desde_ultimo_pedido','status','linea_producto','precio_venta_sugerido','codigo_producto','nombre_cliente','telefono','direccion_linea1','ciudad','codigo_postal','pais','apellido_contacto','nombre_contacto','tamaño_acuerdo']\n",
    "print(df.columns)"
   ]
  },
  {
   "cell_type": "markdown",
   "metadata": {},
   "source": [
    "___"
   ]
  },
  {
   "attachments": {},
   "cell_type": "markdown",
   "metadata": {},
   "source": [
    "## 3. Análisis exploratorio de datos (EDA):"
   ]
  },
  {
   "attachments": {},
   "cell_type": "markdown",
   "metadata": {},
   "source": [
    "    a) Calculen estadísticas básicas de las columnas numéricas media, mediana, desviación estándar usando funciones personalizadas que tendréis que crear vosotros"
   ]
  },
  {
   "cell_type": "markdown",
   "metadata": {},
   "source": [
    "Mirar que columnas tienen datos numéricos y hacer los calculos solo para las columnas donde es útil y tiene sentido"
   ]
  },
  {
   "cell_type": "code",
   "execution_count": 55,
   "metadata": {},
   "outputs": [
    {
     "name": "stdout",
     "output_type": "stream",
     "text": [
      "Index(['numero_del_pedido', 'cantidad_de_pedidos', 'precio_cada_pedido',\n",
      "       'numero_linea_pedido', 'ventas', 'dias_desde_ultimo_pedido',\n",
      "       'precio_venta_sugerido'],\n",
      "      dtype='object')\n"
     ]
    }
   ],
   "source": [
    "print(df.select_dtypes(include=[np.number]).columns)"
   ]
  },
  {
   "cell_type": "markdown",
   "metadata": {},
   "source": [
    "Crear una función para calcular la media"
   ]
  },
  {
   "cell_type": "code",
   "execution_count": 56,
   "metadata": {},
   "outputs": [],
   "source": [
    "def media(columna):\n",
    "    suma = 0\n",
    "    for i in columna:\n",
    "        suma += i\n",
    "    return suma / len(columna)"
   ]
  },
  {
   "cell_type": "markdown",
   "metadata": {},
   "source": [
    "Crear una función para calcular la mediana"
   ]
  },
  {
   "cell_type": "code",
   "execution_count": 57,
   "metadata": {},
   "outputs": [],
   "source": [
    "def mediana(columna):\n",
    "    columna_ordenada = sorted(columna)\n",
    "    if len(columna) % 2 == 0:\n",
    "        mediana = (columna_ordenada[int(len(columna) / 2)] + columna_ordenada[int(len(columna) / 2) - 1]) / 2\n",
    "    else:\n",
    "        mediana = columna_ordenada[int(len(columna) / 2)]\n",
    "    return mediana"
   ]
  },
  {
   "cell_type": "markdown",
   "metadata": {},
   "source": [
    "Crear una función para calcular la desviación estándar"
   ]
  },
  {
   "cell_type": "code",
   "execution_count": 58,
   "metadata": {},
   "outputs": [],
   "source": [
    "def desviacion_estandar(columna):\n",
    "    suma = 0\n",
    "    for i in columna:\n",
    "        suma += (i - media(columna))**2\n",
    "    return (suma / len(columna))**0.5"
   ]
  },
  {
   "cell_type": "markdown",
   "metadata": {},
   "source": [
    "Calcular la media, mediana y desviación estandar de la columna cantidad_de_pedidos"
   ]
  },
  {
   "cell_type": "code",
   "execution_count": 59,
   "metadata": {},
   "outputs": [
    {
     "name": "stdout",
     "output_type": "stream",
     "text": [
      "Media de cantidad de pedidos: 34.74265681368785\n",
      "Mediana de cantidad de pedidos: 35.0\n"
     ]
    },
    {
     "name": "stdout",
     "output_type": "stream",
     "text": [
      "Desviación estándar de cantidad de pedidos: 8.875667188340268\n"
     ]
    }
   ],
   "source": [
    "print(f\"Media de cantidad de pedidos: {media(df['cantidad_de_pedidos'])}\")\n",
    "print(f\"Mediana de cantidad de pedidos: {mediana(df['cantidad_de_pedidos'])}\")\n",
    "print(f\"Desviación estándar de cantidad de pedidos: {desviacion_estandar(df['cantidad_de_pedidos'])}\")"
   ]
  },
  {
   "cell_type": "markdown",
   "metadata": {},
   "source": [
    "Calcular la media, mediana y desviación estandar de la columna precio_cada_pedido"
   ]
  },
  {
   "cell_type": "code",
   "execution_count": 60,
   "metadata": {},
   "outputs": [
    {
     "name": "stdout",
     "output_type": "stream",
     "text": [
      "Media de precio cada pedido: 96.93071271184574\n",
      "Mediana de precio cada pedido: 95.55\n",
      "Desviación estándar de precio cada pedido: 35.903121229616374\n"
     ]
    }
   ],
   "source": [
    "print(f\"Media de precio cada pedido: {media(df['precio_cada_pedido'])}\")\n",
    "print(f\"Mediana de precio cada pedido: {mediana(df['precio_cada_pedido'])}\")\n",
    "print(f\"Desviación estándar de precio cada pedido: {desviacion_estandar(df['precio_cada_pedido'])}\")"
   ]
  },
  {
   "cell_type": "markdown",
   "metadata": {},
   "source": [
    "Calcular la media, mediana y desviación estandar de la columna ventas"
   ]
  },
  {
   "cell_type": "code",
   "execution_count": 61,
   "metadata": {},
   "outputs": [
    {
     "name": "stdout",
     "output_type": "stream",
     "text": [
      "Media de ventas: 3330.1157135434123\n",
      "Mediana de ventas: 3184.8\n",
      "Desviación estándar de ventas: 1462.6659540727312\n"
     ]
    }
   ],
   "source": [
    "print(f\"Media de ventas: {media(df['ventas'])}\")\n",
    "print(f\"Mediana de ventas: {mediana(df['ventas'])}\")\n",
    "print(f\"Desviación estándar de ventas: {desviacion_estandar(df['ventas'])}\")"
   ]
  },
  {
   "cell_type": "markdown",
   "metadata": {},
   "source": [
    "Calcular la media, mediana y desviación estandar de la columna precio_venta_sugerido"
   ]
  },
  {
   "cell_type": "code",
   "execution_count": 62,
   "metadata": {},
   "outputs": [
    {
     "name": "stdout",
     "output_type": "stream",
     "text": [
      "Media de precio venta sugerido: 96.99132375802888\n",
      "Mediana de precio venta sugerido: 99.0\n",
      "Desviación estándar de precio venta sugerido: 34.87009347177173\n"
     ]
    }
   ],
   "source": [
    "print(f\"Media de precio venta sugerido: {media(df['precio_venta_sugerido'])}\")\n",
    "print(f\"Mediana de precio venta sugerido: {mediana(df['precio_venta_sugerido'])}\")\n",
    "print(f\"Desviación estándar de precio venta sugerido: {desviacion_estandar(df['precio_venta_sugerido'])}\")"
   ]
  },
  {
   "cell_type": "markdown",
   "metadata": {},
   "source": [
    "Teniendo en cuenta que hay distintos tipos de productos que se venden y no todos son muy parecidos en demanda y precio tiene sentido calcular los estadísticos de cada producto por separado.\n",
    "Para esto se puede crear una función que reciba como parámetro el nombre del producto y la columna y calcule los estadísticos."
   ]
  },
  {
   "cell_type": "code",
   "execution_count": 63,
   "metadata": {},
   "outputs": [],
   "source": [
    "def estadisticos_producto(producto, columna):\n",
    "    print(f\"Media de {producto}: {media(df[df['linea_producto'] == producto][columna])}\")\n",
    "    print(f\"Mediana de {producto}: {mediana(df[df['linea_producto'] == producto][columna])}\")\n",
    "    print(f\"Desviación estándar de {producto}: {desviacion_estandar(df[df['linea_producto'] == producto][columna])}\")"
   ]
  },
  {
   "cell_type": "markdown",
   "metadata": {},
   "source": [
    "Mirar que productos aparecen en linea_producto"
   ]
  },
  {
   "cell_type": "code",
   "execution_count": 64,
   "metadata": {},
   "outputs": [
    {
     "name": "stdout",
     "output_type": "stream",
     "text": [
      "['Motorcycles' 'Classic Cars' 'Trucks and Buses' 'Vintage Cars' 'Planes'\n",
      " 'Ships' 'Trains']\n"
     ]
    }
   ],
   "source": [
    "print(df['linea_producto'].unique())"
   ]
  },
  {
   "cell_type": "markdown",
   "metadata": {},
   "source": [
    "Ejemplo: Calcular los estadísticos para coches motos y trenes en precio_cada_pedido"
   ]
  },
  {
   "cell_type": "code",
   "execution_count": 65,
   "metadata": {},
   "outputs": [
    {
     "name": "stdout",
     "output_type": "stream",
     "text": [
      "linea_producto\n",
      "Classic Cars        949\n",
      "Vintage Cars        579\n",
      "Motorcycles         313\n",
      "Planes              304\n",
      "Trucks and Buses    295\n",
      "Ships               230\n",
      "Trains               77\n",
      "Name: count, dtype: int64\n",
      "27046.0\n"
     ]
    }
   ],
   "source": [
    "#mirar cuantas veces aparece la palabra \n",
    "print(df['linea_producto'].value_counts())\n",
    "#mirar cuanto suma el precio de todos los 304 planes\n",
    "print(df[df['linea_producto'] == 'Planes']['precio_venta_sugerido'].sum())\n"
   ]
  },
  {
   "cell_type": "code",
   "execution_count": 66,
   "metadata": {},
   "outputs": [
    {
     "name": "stdout",
     "output_type": "stream",
     "text": [
      "Media de Motorcycles: 94.55167499601654\n",
      "Mediana de Motorcycles: 93.54\n",
      "Desviación estándar de Motorcycles: 35.15903528339621\n",
      "Media de Classic Cars: 108.01172175949765\n",
      "Mediana de Classic Cars: 105.27\n",
      "Desviación estándar de Classic Cars: 39.27248615076215\n"
     ]
    }
   ],
   "source": [
    "estadisticos_producto('Motorcycles', 'precio_cada_pedido')\n",
    "estadisticos_producto('Classic Cars', 'precio_cada_pedido')"
   ]
  },
  {
   "attachments": {},
   "cell_type": "markdown",
   "metadata": {},
   "source": [
    "    b) Crear gráficos para visualizar la distribución de los datos, como histogramas y diagramas de caja."
   ]
  },
  {
   "cell_type": "code",
   "execution_count": 67,
   "metadata": {},
   "outputs": [
    {
     "data": {
      "image/png": "[encoded data removed]",
      "text/plain": [
       "<Figure size 640x480 with 1 Axes>"
      ]
     },
     "metadata": {},
     "output_type": "display_data"
    },
    {
     "data": {
      "image/png": "[encoded data removed]",
      "text/plain": [
       "<Figure size 640x480 with 1 Axes>"
      ]
     },
     "metadata": {},
     "output_type": "display_data"
    }
   ],
   "source": [
    "#Crear gráficos para visualizar la distribución de los datos, como histogramas y diagramas de caja.\n",
    "import matplotlib.pyplot as plt\n",
    "import seaborn as sns\n",
    "\n",
    "#diagrama de cajas horizontal de precio_cada_pedido para Classic Cars\n",
    "sns.boxplot(x=df[df['linea_producto'] == 'Classic Cars']['precio_cada_pedido'], color='green')\n",
    "plt.title('Diagrama de cajas y bigotes del precio de Coches clásicos')\n",
    "plt.xlabel('Precio')\n",
    "plt.show()\n",
    "\n",
    "#Histograma que muestra la distribución de cada linea_producto\n",
    "sns.histplot(data=df, x='linea_producto', hue='linea_producto', multiple='stack')\n",
    "plt.xticks(rotation=45)\n",
    "plt.title('Distribución de cada tipo de producto')\n",
    "plt.xlabel('Tipo de producto')\n",
    "plt.ylabel('Frecuencia')\n",
    "plt.show()"
   ]
  },
  {
   "attachments": {},
   "cell_type": "markdown",
   "metadata": {},
   "source": [
    "    c) Identifiquen y analicen las correlaciones entre variables."
   ]
  },
  {
   "cell_type": "markdown",
   "metadata": {},
   "source": [
    "Para ver la correlación entre las variables numéricas hay que calcular el coeficiente de relación de Pearson para ver la correlación lineal"
   ]
  },
  {
   "cell_type": "code",
   "execution_count": 69,
   "metadata": {},
   "outputs": [
    {
     "ename": "ValueError",
     "evalue": "could not convert string to float: '24/02/2018'",
     "output_type": "error",
     "traceback": [
      "\u001b[0;31m---------------------------------------------------------------------------\u001b[0m",
      "\u001b[0;31mValueError\u001b[0m                                Traceback (most recent call last)",
      "\u001b[1;32m/workspaces/Programaci-n_Trabajo/jupyter.ipynb Celda 50\u001b[0m line \u001b[0;36m1\n\u001b[0;32m----> <a href='vscode-notebook-cell://codespaces%2Beffective-space-happiness-wpqqxr9r69rc555g/workspaces/Programaci-n_Trabajo/jupyter.ipynb#Y100sdnNjb2RlLXJlbW90ZQ%3D%3D?line=0'>1</a>\u001b[0m corr \u001b[39m=\u001b[39m df\u001b[39m.\u001b[39;49mcorr(method\u001b[39m=\u001b[39;49m\u001b[39m'\u001b[39;49m\u001b[39mpearson\u001b[39;49m\u001b[39m'\u001b[39;49m)\n\u001b[1;32m      <a href='vscode-notebook-cell://codespaces%2Beffective-space-happiness-wpqqxr9r69rc555g/workspaces/Programaci-n_Trabajo/jupyter.ipynb#Y100sdnNjb2RlLXJlbW90ZQ%3D%3D?line=1'>2</a>\u001b[0m \u001b[39mprint\u001b[39m(corr)\n",
      "File \u001b[0;32m~/.local/lib/python3.10/site-packages/pandas/core/frame.py:10704\u001b[0m, in \u001b[0;36mDataFrame.corr\u001b[0;34m(self, method, min_periods, numeric_only)\u001b[0m\n\u001b[1;32m  10702\u001b[0m cols \u001b[39m=\u001b[39m data\u001b[39m.\u001b[39mcolumns\n\u001b[1;32m  10703\u001b[0m idx \u001b[39m=\u001b[39m cols\u001b[39m.\u001b[39mcopy()\n\u001b[0;32m> 10704\u001b[0m mat \u001b[39m=\u001b[39m data\u001b[39m.\u001b[39;49mto_numpy(dtype\u001b[39m=\u001b[39;49m\u001b[39mfloat\u001b[39;49m, na_value\u001b[39m=\u001b[39;49mnp\u001b[39m.\u001b[39;49mnan, copy\u001b[39m=\u001b[39;49m\u001b[39mFalse\u001b[39;49;00m)\n\u001b[1;32m  10706\u001b[0m \u001b[39mif\u001b[39;00m method \u001b[39m==\u001b[39m \u001b[39m\"\u001b[39m\u001b[39mpearson\u001b[39m\u001b[39m\"\u001b[39m:\n\u001b[1;32m  10707\u001b[0m     correl \u001b[39m=\u001b[39m libalgos\u001b[39m.\u001b[39mnancorr(mat, minp\u001b[39m=\u001b[39mmin_periods)\n",
      "File \u001b[0;32m~/.local/lib/python3.10/site-packages/pandas/core/frame.py:1889\u001b[0m, in \u001b[0;36mDataFrame.to_numpy\u001b[0;34m(self, dtype, copy, na_value)\u001b[0m\n\u001b[1;32m   1887\u001b[0m \u001b[39mif\u001b[39;00m dtype \u001b[39mis\u001b[39;00m \u001b[39mnot\u001b[39;00m \u001b[39mNone\u001b[39;00m:\n\u001b[1;32m   1888\u001b[0m     dtype \u001b[39m=\u001b[39m np\u001b[39m.\u001b[39mdtype(dtype)\n\u001b[0;32m-> 1889\u001b[0m result \u001b[39m=\u001b[39m \u001b[39mself\u001b[39;49m\u001b[39m.\u001b[39;49m_mgr\u001b[39m.\u001b[39;49mas_array(dtype\u001b[39m=\u001b[39;49mdtype, copy\u001b[39m=\u001b[39;49mcopy, na_value\u001b[39m=\u001b[39;49mna_value)\n\u001b[1;32m   1890\u001b[0m \u001b[39mif\u001b[39;00m result\u001b[39m.\u001b[39mdtype \u001b[39mis\u001b[39;00m \u001b[39mnot\u001b[39;00m dtype:\n\u001b[1;32m   1891\u001b[0m     result \u001b[39m=\u001b[39m np\u001b[39m.\u001b[39marray(result, dtype\u001b[39m=\u001b[39mdtype, copy\u001b[39m=\u001b[39m\u001b[39mFalse\u001b[39;00m)\n",
      "File \u001b[0;32m~/.local/lib/python3.10/site-packages/pandas/core/internals/managers.py:1656\u001b[0m, in \u001b[0;36mBlockManager.as_array\u001b[0;34m(self, dtype, copy, na_value)\u001b[0m\n\u001b[1;32m   1654\u001b[0m         arr\u001b[39m.\u001b[39mflags\u001b[39m.\u001b[39mwriteable \u001b[39m=\u001b[39m \u001b[39mFalse\u001b[39;00m\n\u001b[1;32m   1655\u001b[0m \u001b[39melse\u001b[39;00m:\n\u001b[0;32m-> 1656\u001b[0m     arr \u001b[39m=\u001b[39m \u001b[39mself\u001b[39;49m\u001b[39m.\u001b[39;49m_interleave(dtype\u001b[39m=\u001b[39;49mdtype, na_value\u001b[39m=\u001b[39;49mna_value)\n\u001b[1;32m   1657\u001b[0m     \u001b[39m# The underlying data was copied within _interleave, so no need\u001b[39;00m\n\u001b[1;32m   1658\u001b[0m     \u001b[39m# to further copy if copy=True or setting na_value\u001b[39;00m\n\u001b[1;32m   1660\u001b[0m \u001b[39mif\u001b[39;00m na_value \u001b[39mis\u001b[39;00m lib\u001b[39m.\u001b[39mno_default:\n",
      "File \u001b[0;32m~/.local/lib/python3.10/site-packages/pandas/core/internals/managers.py:1715\u001b[0m, in \u001b[0;36mBlockManager._interleave\u001b[0;34m(self, dtype, na_value)\u001b[0m\n\u001b[1;32m   1713\u001b[0m     \u001b[39melse\u001b[39;00m:\n\u001b[1;32m   1714\u001b[0m         arr \u001b[39m=\u001b[39m blk\u001b[39m.\u001b[39mget_values(dtype)\n\u001b[0;32m-> 1715\u001b[0m     result[rl\u001b[39m.\u001b[39;49mindexer] \u001b[39m=\u001b[39m arr\n\u001b[1;32m   1716\u001b[0m     itemmask[rl\u001b[39m.\u001b[39mindexer] \u001b[39m=\u001b[39m \u001b[39m1\u001b[39m\n\u001b[1;32m   1718\u001b[0m \u001b[39mif\u001b[39;00m \u001b[39mnot\u001b[39;00m itemmask\u001b[39m.\u001b[39mall():\n",
      "\u001b[0;31mValueError\u001b[0m: could not convert string to float: '24/02/2018'"
     ]
    }
   ],
   "source": [
    "corr = df.corr(method='pearson')\n",
    "print(corr)"
   ]
  },
  {
   "cell_type": "markdown",
   "metadata": {},
   "source": [
    "Los números toman valores entre -1 y 1. Si el valor es cercano a 1, significa que hay una correlación positiva fuerte, si es cercano a -1, significa que hay una correlación negativa fuerte y si es cercano a 0, significa que no hay correlación lineal.\n",
    "\n",
    "Vamos a sustituir los números por cada tipo de correlación para entenderlo mejor. Para ello usamos un blucle for que sustituye los números por palabras."
   ]
  },
  {
   "cell_type": "code",
   "execution_count": 70,
   "metadata": {},
   "outputs": [
    {
     "ename": "NameError",
     "evalue": "name 'corr' is not defined",
     "output_type": "error",
     "traceback": [
      "\u001b[0;31m---------------------------------------------------------------------------\u001b[0m",
      "\u001b[0;31mNameError\u001b[0m                                 Traceback (most recent call last)",
      "\u001b[1;32m/workspaces/Programaci-n_Trabajo/jupyter.ipynb Celda 52\u001b[0m line \u001b[0;36m1\n\u001b[0;32m----> <a href='vscode-notebook-cell://codespaces%2Beffective-space-happiness-wpqqxr9r69rc555g/workspaces/Programaci-n_Trabajo/jupyter.ipynb#Y102sdnNjb2RlLXJlbW90ZQ%3D%3D?line=0'>1</a>\u001b[0m \u001b[39mfor\u001b[39;00m i \u001b[39min\u001b[39;00m corr\u001b[39m.\u001b[39mcolumns:\n\u001b[1;32m      <a href='vscode-notebook-cell://codespaces%2Beffective-space-happiness-wpqqxr9r69rc555g/workspaces/Programaci-n_Trabajo/jupyter.ipynb#Y102sdnNjb2RlLXJlbW90ZQ%3D%3D?line=1'>2</a>\u001b[0m     \u001b[39mfor\u001b[39;00m j \u001b[39min\u001b[39;00m corr\u001b[39m.\u001b[39mcolumns:\n\u001b[1;32m      <a href='vscode-notebook-cell://codespaces%2Beffective-space-happiness-wpqqxr9r69rc555g/workspaces/Programaci-n_Trabajo/jupyter.ipynb#Y102sdnNjb2RlLXJlbW90ZQ%3D%3D?line=2'>3</a>\u001b[0m         \u001b[39mif\u001b[39;00m corr[i][j] \u001b[39m==\u001b[39m \u001b[39m1\u001b[39m:\n",
      "\u001b[0;31mNameError\u001b[0m: name 'corr' is not defined"
     ]
    }
   ],
   "source": [
    "for i in corr.columns:\n",
    "    for j in corr.columns:\n",
    "        if corr[i][j] == 1:\n",
    "            corr[i][j] = 'PERFECTA (+)'\n",
    "        elif corr[i][j] == -1:\n",
    "            corr[i][j] = 'PERFECTA (-)'\n",
    "        elif corr[i][j] < 1 and corr[i][j] >= 0.5:\n",
    "            corr[i][j] = 'FUERTE (+)'\n",
    "        elif corr[i][j] > -1 and corr[i][j] <= -0.5:\n",
    "            corr[i][j] = 'FUERTE (-)'\n",
    "        elif corr[i][j] < 0.5 and corr[i][j] >= 0.3:\n",
    "            corr[i][j] = 'MODERADA (+)'\n",
    "        elif corr[i][j] > -0.5 and corr[i][j] <= -0.3:\n",
    "            corr[i][j] = 'MODERADA (-)'\n",
    "        elif corr[i][j] < 0.3 and corr[i][j] >= 0.1:\n",
    "            corr[i][j] = 'DEBIL (+)'\n",
    "        elif corr[i][j] > -0.3 and corr[i][j] <= -0.1:\n",
    "            corr[i][j] = 'DEBIL (-)'\n",
    "        else:\n",
    "            corr[i][j] = 'NULA'\n",
    "\n",
    "print(corr)"
   ]
  },
  {
   "cell_type": "markdown",
   "metadata": {},
   "source": [
    "La recta de regresión es una línea que busca modelar la relación lineal entre una variable independiente y una variable dependiente.\n",
    "Probemos a calcular la recta de regresión de dos variables con una correlación lineal fuerte.\n",
    "Para ello vamos a utilizar la librería numpy y la función polyfit que se utiliza para calcular directamente la pendiente y la ordenada al origen de la recta de regresión."
   ]
  },
  {
   "cell_type": "code",
   "execution_count": null,
   "metadata": {},
   "outputs": [],
   "source": [
    "# Datos de precios Y ventas\n",
    "PRICEEACH = df['precio_cada_pedido'].values\n",
    "SALES = df['ventas'].values"
   ]
  },
  {
   "cell_type": "markdown",
   "metadata": {},
   "source": [
    "Hallamos los valores de m(pendiente) y b(ordenada al origen) para la recta de regression y = mx + b  "
   ]
  },
  {
   "cell_type": "code",
   "execution_count": null,
   "metadata": {},
   "outputs": [
    {
     "name": "stdout",
     "output_type": "stream",
     "text": [
      "Pendiente: 29.873129160515646\n",
      "Ordenada_al_origen: 434.4920130816187\n"
     ]
    }
   ],
   "source": [
    "pendiente, ordenada_al_origen = np.polyfit(PRICEEACH, SALES, 1)\n",
    "\n",
    "print(f\"Pendiente: {pendiente}\")\n",
    "print(f\"Ordenada_al_origen: {ordenada_al_origen}\")"
   ]
  },
  {
   "cell_type": "markdown",
   "metadata": {},
   "source": [
    "Visualizar los datos y la recta de regresión para ver que efectivamente existe una correlación precio-ventas."
   ]
  },
  {
   "cell_type": "code",
   "execution_count": null,
   "metadata": {},
   "outputs": [
    {
     "data": {
      "image/png": "[encoded data removed]",
      "text/plain": [
       "<Figure size 640x480 with 1 Axes>"
      ]
     },
     "metadata": {},
     "output_type": "display_data"
    }
   ],
   "source": [
    "\n",
    "plt.scatter(PRICEEACH, SALES, label='Datos reales')\n",
    "plt.plot(PRICEEACH, pendiente * PRICEEACH + ordenada_al_origen, color='red', label='Recta de regresión')\n",
    "plt.xlabel('precio de cada pedido')\n",
    "plt.ylabel('ventas')\n",
    "plt.legend()\n",
    "plt.show()\n"
   ]
  },
  {
   "attachments": {},
   "cell_type": "markdown",
   "metadata": {},
   "source": [
    "4. Manipulación de datos usando condicionales y bucles:"
   ]
  },
  {
   "attachments": {},
   "cell_type": "markdown",
   "metadata": {},
   "source": [
    "a) Filtrar el dataset utilizando condiciones específicas."
   ]
  },
  {
   "cell_type": "code",
   "execution_count": null,
   "metadata": {},
   "outputs": [],
   "source": []
  },
  {
   "attachments": {},
   "cell_type": "markdown",
   "metadata": {},
   "source": [
    "b) Crear nuevas columnas aplicando funciones o cálculos basados en\n",
    "valores de otras columnas."
   ]
  },
  {
   "cell_type": "code",
   "execution_count": null,
   "metadata": {},
   "outputs": [],
   "source": []
  },
  {
   "attachments": {},
   "cell_type": "markdown",
   "metadata": {},
   "source": [
    "c) Utilizar bucles para iterar sobre filas o columnas y realizar cálculos."
   ]
  },
  {
   "cell_type": "code",
   "execution_count": null,
   "metadata": {},
   "outputs": [],
   "source": []
  },
  {
   "attachments": {},
   "cell_type": "markdown",
   "metadata": {},
   "source": [
    "5. Manejo de excepciones:"
   ]
  },
  {
   "attachments": {},
   "cell_type": "markdown",
   "metadata": {},
   "source": [
    "a) Utilizar bloques try-except para manejar errores o excepciones al leer\n",
    "o procesar el dataset."
   ]
  },
  {
   "cell_type": "markdown",
   "metadata": {},
   "source": []
  },
  {
   "cell_type": "code",
   "execution_count": 3,
   "metadata": {},
   "outputs": [
    {
     "name": "stdout",
     "output_type": "stream",
     "text": [
      "('Faltan las siguientes columnas requeridas : ', {'numero_del_pedido, cantidad_de_pedidos, precio_cada_pedido, numero_linea_pedido, ventas, fecha_pedido, dias_desde_ultimo_pedido, status, linea_producto, precio_venta_sugerido, codigo_producto, nombre_cliente, telefono, direccion_linea1, ciudad, codigo_postal, pais, apellido_contacto, nombre_contacto, tamaño_acuerdo'})\n"
     ]
    }
   ],
   "source": [
    "import pandas as pd \n",
    "class InvalidDataError(Exception):\n",
    "    pass\n",
    "\n",
    "def process_dataset(df):\n",
    "    df['columna']=df['columna'].apply(lambda x: x.lower())\n",
    "    return df\n",
    "#Bloque try-except\n",
    "try:\n",
    "    df=pd.read_csv('Auto_Sales_data.csv')\n",
    "    #Comprobamos si faltan columnas\n",
    "    columnas_requeridas=['numero_del_pedido', 'cantidad_de_pedidos','precio_cada_pedido','numero_linea_pedido','ventas','fecha_pedido','dias_desde_ultimo_pedido','status','linea_producto','precio_venta_sugerido','codigo_producto','nombre_cliente','telefono','direccion_linea1','ciudad','codigo_postal','pais','apellido_contacto','nombre_contacto','tamaño_acuerdo']\n",
    "    columnas_q_faltan=[col for col in columnas_requeridas if col not in df.columns]\n",
    "    if columnas_q_faltan:\n",
    "        raise InvalidDataError(f\"Faltan las siguientes columnas requeridas : \",{', '.join(columnas_q_faltan)})\n",
    "    \n",
    "    df_procesado=process_dataset(df)\n",
    "#Varias excepciones\n",
    "except pd.errors.EmptyDataError:\n",
    "    print(\"El archivo CSV está vacío.\")\n",
    "except pd.errors.ParserError:\n",
    "    print(\"Hubo un error al analizar el CSV\")\n",
    "except FileNotFoundError:\n",
    "    print(\"No se encontró el archivo CSV.\")\n",
    "except InvalidDataError as e:\n",
    "    print(e)\n",
    "except Exception as e:\n",
    "    print(f\"Ocurrió un error inesperado: {e}\")\n"
   ]
  },
  {
   "attachments": {},
   "cell_type": "markdown",
   "metadata": {},
   "source": [
    "b) Crear excepciones personalizadas para manejar situaciones\n",
    "específicas del análisis."
   ]
  },
  {
   "cell_type": "code",
   "execution_count": null,
   "metadata": {},
   "outputs": [],
   "source": []
  }
 ],
 "metadata": {
  "kernelspec": {
   "display_name": "Python 3",
   "language": "python",
   "name": "python3"
  },
  "language_info": {
   "codemirror_mode": {
    "name": "ipython",
    "version": 3
   },
   "file_extension": ".py",
   "mimetype": "text/x-python",
   "name": "python",
   "nbconvert_exporter": "python",
   "pygments_lexer": "ipython3",
   "version": "3.10.13"
  },
  "orig_nbformat": 4,
  "vscode": {
   "interpreter": {
    "hash": "aee8b7b246df8f9039afb4144a1f6fd8d2ca17a180786b69acc140d282b71a49"
   }
  }
 },
 "nbformat": 4,
 "nbformat_minor": 2
}
