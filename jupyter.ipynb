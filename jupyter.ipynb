{
 "cells": [
  {
   "cell_type": "markdown",
   "metadata": {},
   "source": [
    "# **Trabajo final en Python: Análisis de un dataset**"
   ]
  },
  {
   "cell_type": "markdown",
   "metadata": {},
   "source": [
    "___"
   ]
  },
  {
   "cell_type": "markdown",
   "metadata": {},
   "source": [
    "## 1. Lectura y exploración inicial del dataset:"
   ]
  },
  {
   "attachments": {},
   "cell_type": "markdown",
   "metadata": {},
   "source": [
    "    a)Importen las librerías numpy y pandas"
   ]
  },
  {
   "cell_type": "code",
   "execution_count": 49,
   "metadata": {},
   "outputs": [],
   "source": [
    "import numpy as np\n",
    "import pandas as pd"
   ]
  },
  {
   "attachments": {},
   "cell_type": "markdown",
   "metadata": {},
   "source": [
    "    b)Lean el dataset descargado de Kaggle utilizando pandas."
   ]
  },
  {
   "cell_type": "code",
   "execution_count": 50,
   "metadata": {},
   "outputs": [],
   "source": [
    "archivo = 'Auto_Sales_data.csv'\n",
    "data = pd.read_csv(archivo)  # Utiliza pd.read_csv() para cargar los datos desde un archivo CSV"
   ]
  },
  {
   "attachments": {},
   "cell_type": "markdown",
   "metadata": {},
   "source": [
    "    c)Muestren las primeras y últimas filas del dataset."
   ]
  },
  {
   "cell_type": "code",
   "execution_count": 51,
   "metadata": {},
   "outputs": [
    {
     "name": "stdout",
     "output_type": "stream",
     "text": [
      "Primeras filas:    ORDERNUMBER  QUANTITYORDERED  PRICEEACH  ORDERLINENUMBER    SALES  \\\n",
      "0        10107               30      95.70                2  2871.00   \n",
      "1        10121               34      81.35                5  2765.90   \n",
      "2        10134               41      94.74                2  3884.34   \n",
      "3        10145               45      83.26                6  3746.70   \n",
      "4        10168               36      96.66                1  3479.76   \n",
      "\n",
      "    ORDERDATE  DAYS_SINCE_LASTORDER   STATUS  PRODUCTLINE  MSRP PRODUCTCODE  \\\n",
      "0  24/02/2018                   828  Shipped  Motorcycles    95    S10_1678   \n",
      "1  07/05/2018                   757  Shipped  Motorcycles    95    S10_1678   \n",
      "2  01/07/2018                   703  Shipped  Motorcycles    95    S10_1678   \n",
      "3  25/08/2018                   649  Shipped  Motorcycles    95    S10_1678   \n",
      "4  28/10/2018                   586  Shipped  Motorcycles    95    S10_1678   \n",
      "\n",
      "           CUSTOMERNAME             PHONE                   ADDRESSLINE1  \\\n",
      "0     Land of Toys Inc.        2125557818        897 Long Airport Avenue   \n",
      "1    Reims Collectables        26.47.1555             59 rue de l'Abbaye   \n",
      "2       Lyon Souveniers  +33 1 46 62 7555  27 rue du Colonel Pierre Avia   \n",
      "3     Toys4GrownUps.com        6265557265             78934 Hillside Dr.   \n",
      "4  Technics Stores Inc.        6505556809              9408 Furth Circle   \n",
      "\n",
      "         CITY POSTALCODE COUNTRY CONTACTLASTNAME CONTACTFIRSTNAME DEALSIZE  \n",
      "0         NYC      10022     USA              Yu             Kwai    Small  \n",
      "1       Reims      51100  France         Henriot             Paul    Small  \n",
      "2       Paris      75508  France        Da Cunha           Daniel   Medium  \n",
      "3    Pasadena      90003     USA           Young            Julie   Medium  \n",
      "4  Burlingame      94217     USA          Hirano             Juri   Medium  \n",
      "Últimas 5 filas:       ORDERNUMBER  QUANTITYORDERED  PRICEEACH  ORDERLINENUMBER    SALES  \\\n",
      "2742        10350               20     112.22               15  2244.40   \n",
      "2743        10373               29     137.19                1  3978.51   \n",
      "2744        10386               43     125.99                4  5417.57   \n",
      "2745        10397               34      62.24                1  2116.16   \n",
      "2746        10414               47      65.52                9  3079.44   \n",
      "\n",
      "       ORDERDATE  DAYS_SINCE_LASTORDER    STATUS PRODUCTLINE  MSRP  \\\n",
      "2742  02/12/2019                  2924   Shipped       Ships    54   \n",
      "2743  31/01/2020                  2865   Shipped       Ships    54   \n",
      "2744  01/03/2020                  2836  Resolved       Ships    54   \n",
      "2745  28/03/2020                  2810   Shipped       Ships    54   \n",
      "2746  06/05/2020                  2772   On Hold       Ships    54   \n",
      "\n",
      "     PRODUCTCODE             CUSTOMERNAME           PHONE  \\\n",
      "2742    S72_3212    Euro Shopping Channel  (91) 555 94 44   \n",
      "2743    S72_3212  Oulu Toy Supplies, Inc.      981-443655   \n",
      "2744    S72_3212    Euro Shopping Channel  (91) 555 94 44   \n",
      "2745    S72_3212             Alpha Cognac      61.77.6555   \n",
      "2746    S72_3212        Gifts4AllAges.com      6175559555   \n",
      "\n",
      "               ADDRESSLINE1      CITY POSTALCODE  COUNTRY CONTACTLASTNAME  \\\n",
      "2742     C/ Moralzarzal, 86    Madrid      28034    Spain          Freyre   \n",
      "2743            Torikatu 38      Oulu      90110  Finland       Koskitalo   \n",
      "2744     C/ Moralzarzal, 86    Madrid      28034    Spain          Freyre   \n",
      "2745  1 rue Alsace-Lorraine  Toulouse      31000   France          Roulet   \n",
      "2746     8616 Spinnaker Dr.    Boston      51003      USA         Yoshido   \n",
      "\n",
      "     CONTACTFIRSTNAME DEALSIZE  \n",
      "2742            Diego    Small  \n",
      "2743           Pirkko   Medium  \n",
      "2744            Diego   Medium  \n",
      "2745          Annette    Small  \n",
      "2746             Juri   Medium  \n"
     ]
    }
   ],
   "source": [
    "primeras = data.head()\n",
    "ultimas = data.tail()\n",
    "\n",
    "# Imprime las primeras y las últimas filas\n",
    "print(f\"Primeras filas: {primeras}\")\n",
    "print(f\"Últimas 5 filas: {ultimas}\")"
   ]
  },
  {
   "attachments": {},
   "cell_type": "markdown",
   "metadata": {},
   "source": [
    "    d)Obtengan información general del dataset, como el número de filas y columnas, y los tipos de datos"
   ]
  },
  {
   "cell_type": "code",
   "execution_count": 59,
   "metadata": {},
   "outputs": [
    {
     "name": "stdout",
     "output_type": "stream",
     "text": [
      "<class 'pandas.core.frame.DataFrame'>\n",
      "RangeIndex: 2747 entries, 0 to 2746\n",
      "Data columns (total 23 columns):\n",
      " #   Column                Non-Null Count  Dtype  \n",
      "---  ------                --------------  -----  \n",
      " 0   ORDERNUMBER           2747 non-null   int64  \n",
      " 1   QUANTITYORDERED       2747 non-null   int64  \n",
      " 2   PRICEEACH             2747 non-null   float64\n",
      " 3   ORDERLINENUMBER       2747 non-null   int64  \n",
      " 4   SALES                 2747 non-null   float64\n",
      " 5   ORDERDATE             2747 non-null   object \n",
      " 6   DAYS_SINCE_LASTORDER  2747 non-null   int64  \n",
      " 7   STATUS                2747 non-null   object \n",
      " 8   PRODUCTLINE           2747 non-null   object \n",
      " 9   MSRP                  2747 non-null   int64  \n",
      " 10  PRODUCTCODE           2747 non-null   object \n",
      " 11  CUSTOMERNAME          2747 non-null   object \n",
      " 12  PHONE                 2747 non-null   object \n",
      " 13  ADDRESSLINE1          2747 non-null   object \n",
      " 14  CITY                  2747 non-null   object \n",
      " 15  POSTALCODE            2747 non-null   object \n",
      " 16  COUNTRY               2747 non-null   object \n",
      " 17  CONTACTLASTNAME       2747 non-null   object \n",
      " 18  CONTACTFIRSTNAME      2747 non-null   object \n",
      " 19  DEALSIZE              2747 non-null   object \n",
      " 20  TOTAL_SALES           2747 non-null   float64\n",
      " 21  ORDER_STATUS          2747 non-null   object \n",
      " 22  DISCOUNT              2747 non-null   float64\n",
      "dtypes: float64(4), int64(5), object(14)\n",
      "memory usage: 493.7+ KB\n",
      "Número de filas: 2747\n",
      "Número de columnas: 23\n",
      "Tipos de datos de cada columna:ORDERNUMBER               int64\n",
      "QUANTITYORDERED           int64\n",
      "PRICEEACH               float64\n",
      "ORDERLINENUMBER           int64\n",
      "SALES                   float64\n",
      "ORDERDATE                object\n",
      "DAYS_SINCE_LASTORDER      int64\n",
      "STATUS                   object\n",
      "PRODUCTLINE              object\n",
      "MSRP                      int64\n",
      "PRODUCTCODE              object\n",
      "CUSTOMERNAME             object\n",
      "PHONE                    object\n",
      "ADDRESSLINE1             object\n",
      "CITY                     object\n",
      "POSTALCODE               object\n",
      "COUNTRY                  object\n",
      "CONTACTLASTNAME          object\n",
      "CONTACTFIRSTNAME         object\n",
      "DEALSIZE                 object\n",
      "TOTAL_SALES             float64\n",
      "ORDER_STATUS             object\n",
      "DISCOUNT                float64\n",
      "dtype: object\n"
     ]
    }
   ],
   "source": [
    "info = data.info()   # Muestra info del csv\n",
    "\n",
    "nfilas, ncolumnas = data.shape   #la funcion.shape devuelve una tupla que representa las dimensiones de la estructura de datos\n",
    "print(f\"Número de filas: {nfilas}\")\n",
    "print(f\"Número de columnas: {ncolumnas}\")\n",
    "\n",
    "tipos = data.dtypes   #.types es un atributo de un DataFrame que devuelve una serie que contiene los tipos de datos de cada columna en el csv\n",
    "print(f\"Tipos de datos de cada columna:{tipos}\")"
   ]
  },
  {
   "cell_type": "markdown",
   "metadata": {},
   "source": [
    "___"
   ]
  },
  {
   "attachments": {},
   "cell_type": "markdown",
   "metadata": {},
   "source": [
    "## 2. Limpieza y preprocesamiento de datos:"
   ]
  },
  {
   "attachments": {},
   "cell_type": "markdown",
   "metadata": {},
   "source": [
    "    a)Identifiquen y traten o imputen los valores faltantes NaN usando una función personalizada que use la moda/media para remplazarlos. En caso de no haber filas con NaN, todo dato que esté por encima o por debajo de dos desviaciones típicas de la media tendrá que imputarse por la moda/media."
   ]
  },
  {
   "cell_type": "code",
   "execution_count": 60,
   "metadata": {},
   "outputs": [
    {
     "name": "stdout",
     "output_type": "stream",
     "text": [
      "      ORDERNUMBER  QUANTITYORDERED  PRICEEACH  ORDERLINENUMBER    SALES  \\\n",
      "0         10107.0             30.0      95.70         2.000000  2871.00   \n",
      "1         10121.0             34.0      81.35         5.000000  2765.90   \n",
      "2         10134.0             41.0      94.74         2.000000  3884.34   \n",
      "3         10145.0             45.0      83.26         6.000000  3746.70   \n",
      "4         10168.0             36.0      96.66         1.000000  3479.76   \n",
      "...           ...              ...        ...              ...      ...   \n",
      "2742      10350.0             20.0     112.22         6.491081  2244.40   \n",
      "2743      10373.0             29.0     137.19         1.000000  3978.51   \n",
      "2744      10386.0             43.0     125.99         4.000000  5417.57   \n",
      "2745      10397.0             34.0      62.24         1.000000  2116.16   \n",
      "2746      10414.0             47.0      65.52         9.000000  3079.44   \n",
      "\n",
      "       ORDERDATE  DAYS_SINCE_LASTORDER    STATUS  PRODUCTLINE  MSRP  \\\n",
      "0     24/02/2018                 828.0   Shipped  Motorcycles  95.0   \n",
      "1     07/05/2018                 757.0   Shipped  Motorcycles  95.0   \n",
      "2     01/07/2018                 703.0   Shipped  Motorcycles  95.0   \n",
      "3     25/08/2018                 649.0   Shipped  Motorcycles  95.0   \n",
      "4     28/10/2018                 586.0   Shipped  Motorcycles  95.0   \n",
      "...          ...                   ...       ...          ...   ...   \n",
      "2742  02/12/2019                2924.0   Shipped        Ships  54.0   \n",
      "2743  31/01/2020                2865.0   Shipped        Ships  54.0   \n",
      "2744  01/03/2020                2836.0  Resolved        Ships  54.0   \n",
      "2745  28/03/2020                2810.0   Shipped        Ships  54.0   \n",
      "2746  06/05/2020                2772.0   On Hold        Ships  54.0   \n",
      "\n",
      "     PRODUCTCODE             CUSTOMERNAME             PHONE  \\\n",
      "0       S10_1678        Land of Toys Inc.        2125557818   \n",
      "1       S10_1678       Reims Collectables        26.47.1555   \n",
      "2       S10_1678          Lyon Souveniers  +33 1 46 62 7555   \n",
      "3       S10_1678        Toys4GrownUps.com        6265557265   \n",
      "4       S10_1678     Technics Stores Inc.        6505556809   \n",
      "...          ...                      ...               ...   \n",
      "2742    S72_3212    Euro Shopping Channel    (91) 555 94 44   \n",
      "2743    S72_3212  Oulu Toy Supplies, Inc.        981-443655   \n",
      "2744    S72_3212    Euro Shopping Channel    (91) 555 94 44   \n",
      "2745    S72_3212             Alpha Cognac        61.77.6555   \n",
      "2746    S72_3212        Gifts4AllAges.com        6175559555   \n",
      "\n",
      "                       ADDRESSLINE1        CITY POSTALCODE  COUNTRY  \\\n",
      "0           897 Long Airport Avenue         NYC      10022      USA   \n",
      "1                59 rue de l'Abbaye       Reims      51100   France   \n",
      "2     27 rue du Colonel Pierre Avia       Paris      75508   France   \n",
      "3                78934 Hillside Dr.    Pasadena      90003      USA   \n",
      "4                 9408 Furth Circle  Burlingame      94217      USA   \n",
      "...                             ...         ...        ...      ...   \n",
      "2742             C/ Moralzarzal, 86      Madrid      28034    Spain   \n",
      "2743                    Torikatu 38        Oulu      90110  Finland   \n",
      "2744             C/ Moralzarzal, 86      Madrid      28034    Spain   \n",
      "2745          1 rue Alsace-Lorraine    Toulouse      31000   France   \n",
      "2746             8616 Spinnaker Dr.      Boston      51003      USA   \n",
      "\n",
      "     CONTACTLASTNAME CONTACTFIRSTNAME DEALSIZE  \n",
      "0                 Yu             Kwai    Small  \n",
      "1            Henriot             Paul    Small  \n",
      "2           Da Cunha           Daniel   Medium  \n",
      "3              Young            Julie   Medium  \n",
      "4             Hirano             Juri   Medium  \n",
      "...              ...              ...      ...  \n",
      "2742          Freyre            Diego    Small  \n",
      "2743       Koskitalo           Pirkko   Medium  \n",
      "2744          Freyre            Diego   Medium  \n",
      "2745          Roulet          Annette    Small  \n",
      "2746         Yoshido             Juri   Medium  \n",
      "\n",
      "[2747 rows x 20 columns]\n"
     ]
    }
   ],
   "source": [
    "import pandas as pd\n",
    "import numpy as np\n",
    "\n",
    "archivo = 'Auto_Sales_data.csv'\n",
    "df = pd.read_csv(archivo)  # Utiliza pd.read_csv() para cargar los datos desde un archivo CSV\n",
    "\n",
    "# Función para reemplazar NaN con la moda o la media\n",
    "def replace_nan(df, column, method='mean'):\n",
    "    if df[column].isnull().sum() > 0:\n",
    "        if method == 'mean':\n",
    "            df[column].fillna(df[column].mean(), inplace=True)\n",
    "        elif method == 'mode':\n",
    "            df[column].fillna(df[column].mode()[0], inplace=True)\n",
    "\n",
    "# Aplicar la función a todas las columnas\n",
    "for column in df.columns:\n",
    "    replace_nan(df, column)\n",
    "\n",
    "# Tratar valores fuera de 2 desviaciones estándar\n",
    "for column in df.select_dtypes(include=[np.number]).columns:\n",
    "    mean = df[column].mean()\n",
    "    std = df[column].std()\n",
    "    upper_bound = mean + 2*std\n",
    "    lower_bound = mean - 2*std\n",
    "    df[column] = np.where((df[column] > upper_bound) | (df[column] < lower_bound), df[column].mean(), df[column])\n",
    "    \n",
    "print(df)"
   ]
  },
  {
   "attachments": {},
   "cell_type": "markdown",
   "metadata": {},
   "source": [
    "    b) Conviertan los tipos de datos de las columnas si es necesario."
   ]
  },
  {
   "cell_type": "code",
   "execution_count": null,
   "metadata": {},
   "outputs": [],
   "source": []
  },
  {
   "attachments": {},
   "cell_type": "markdown",
   "metadata": {},
   "source": [
    "    c)Renombren las columnas para facilitar su manipulación."
   ]
  },
  {
   "cell_type": "code",
   "execution_count": 61,
   "metadata": {},
   "outputs": [
    {
     "name": "stdout",
     "output_type": "stream",
     "text": [
      "Index(['numero_del_pedido', 'cantidad_de_pedidos', 'precio_cada_pedido',\n",
      "       'numero_linea_pedido', 'ventas', 'fecha_pedido',\n",
      "       'dias_desde_ultimo_pedido', 'status', 'linea_producto',\n",
      "       'precio_venta_sugerido', 'codigo_producto', 'nombre_cliente',\n",
      "       'telefono', 'direccion_linea1', 'ciudad', 'codigo_postal', 'pais',\n",
      "       'apellido_contacto', 'nombre_contacto', 'tamaño_acuerdo'],\n",
      "      dtype='object')\n"
     ]
    }
   ],
   "source": [
    "df.columns = ['numero_del_pedido', 'cantidad_de_pedidos','precio_cada_pedido','numero_linea_pedido','ventas','fecha_pedido','dias_desde_ultimo_pedido','status','linea_producto','precio_venta_sugerido','codigo_producto','nombre_cliente','telefono','direccion_linea1','ciudad','codigo_postal','pais','apellido_contacto','nombre_contacto','tamaño_acuerdo']\n",
    "print(df.columns)"
   ]
  },
  {
   "cell_type": "markdown",
   "metadata": {},
   "source": [
    "___"
   ]
  },
  {
   "attachments": {},
   "cell_type": "markdown",
   "metadata": {},
   "source": [
    "## 3. Análisis exploratorio de datos (EDA):"
   ]
  },
  {
   "attachments": {},
   "cell_type": "markdown",
   "metadata": {},
   "source": [
    "    a) Calculen estadísticas básicas de las columnas numéricas media, mediana, desviación estándar usando funciones personalizadas que tendréis que crear vosotros"
   ]
  },
  {
   "cell_type": "markdown",
   "metadata": {},
   "source": [
    "Mirar que columnas tienen datos numéricos y hacer los calculos solo para las columnas donde es útil y tiene sentido"
   ]
  },
  {
   "cell_type": "code",
   "execution_count": 62,
   "metadata": {},
   "outputs": [
    {
     "name": "stdout",
     "output_type": "stream",
     "text": [
      "Index(['numero_del_pedido', 'cantidad_de_pedidos', 'precio_cada_pedido',\n",
      "       'numero_linea_pedido', 'ventas', 'dias_desde_ultimo_pedido',\n",
      "       'precio_venta_sugerido'],\n",
      "      dtype='object')\n"
     ]
    }
   ],
   "source": [
    "print(df.select_dtypes(include=[np.number]).columns)"
   ]
  },
  {
   "cell_type": "markdown",
   "metadata": {},
   "source": [
    "Crear una función para calcular la media"
   ]
  },
  {
   "cell_type": "code",
   "execution_count": 63,
   "metadata": {},
   "outputs": [],
   "source": [
    "def media(columna):\n",
    "    suma = 0\n",
    "    for i in columna:\n",
    "        suma += i\n",
    "    return suma / len(columna)"
   ]
  },
  {
   "cell_type": "markdown",
   "metadata": {},
   "source": [
    "Crear una función para calcular la mediana"
   ]
  },
  {
   "cell_type": "code",
   "execution_count": 64,
   "metadata": {},
   "outputs": [],
   "source": [
    "def mediana(columna):\n",
    "    columna_ordenada = sorted(columna)\n",
    "    if len(columna) % 2 == 0:\n",
    "        mediana = (columna_ordenada[int(len(columna) / 2)] + columna_ordenada[int(len(columna) / 2) - 1]) / 2\n",
    "    else:\n",
    "        mediana = columna_ordenada[int(len(columna) / 2)]\n",
    "    return mediana"
   ]
  },
  {
   "cell_type": "markdown",
   "metadata": {},
   "source": [
    "Crear una función para calcular la desviación estándar"
   ]
  },
  {
   "cell_type": "code",
   "execution_count": 65,
   "metadata": {},
   "outputs": [],
   "source": [
    "def desviacion_estandar(columna):\n",
    "    suma = 0\n",
    "    for i in columna:\n",
    "        suma += (i - media(columna))**2\n",
    "    return (suma / len(columna))**0.5"
   ]
  },
  {
   "cell_type": "markdown",
   "metadata": {},
   "source": [
    "Calcular la media, mediana y desviación estandar de la columna cantidad_de_pedidos"
   ]
  },
  {
   "cell_type": "code",
   "execution_count": 66,
   "metadata": {},
   "outputs": [
    {
     "name": "stdout",
     "output_type": "stream",
     "text": [
      "Media de cantidad de pedidos: 34.74265681368785\n",
      "Mediana de cantidad de pedidos: 35.0\n",
      "Desviación estándar de cantidad de pedidos: 8.875667188340268\n"
     ]
    }
   ],
   "source": [
    "print(f\"Media de cantidad de pedidos: {media(df['cantidad_de_pedidos'])}\")\n",
    "print(f\"Mediana de cantidad de pedidos: {mediana(df['cantidad_de_pedidos'])}\")\n",
    "print(f\"Desviación estándar de cantidad de pedidos: {desviacion_estandar(df['cantidad_de_pedidos'])}\")"
   ]
  },
  {
   "cell_type": "markdown",
   "metadata": {},
   "source": [
    "Calcular la media, mediana y desviación estandar de la columna precio_cada_pedido"
   ]
  },
  {
   "cell_type": "code",
   "execution_count": 67,
   "metadata": {},
   "outputs": [
    {
     "name": "stdout",
     "output_type": "stream",
     "text": [
      "Media de precio cada pedido: 96.93071271184574\n",
      "Mediana de precio cada pedido: 95.55\n",
      "Desviación estándar de precio cada pedido: 35.903121229616374\n"
     ]
    }
   ],
   "source": [
    "print(f\"Media de precio cada pedido: {media(df['precio_cada_pedido'])}\")\n",
    "print(f\"Mediana de precio cada pedido: {mediana(df['precio_cada_pedido'])}\")\n",
    "print(f\"Desviación estándar de precio cada pedido: {desviacion_estandar(df['precio_cada_pedido'])}\")"
   ]
  },
  {
   "cell_type": "markdown",
   "metadata": {},
   "source": [
    "Calcular la media, mediana y desviación estandar de la columna ventas"
   ]
  },
  {
   "cell_type": "code",
   "execution_count": 68,
   "metadata": {},
   "outputs": [
    {
     "name": "stdout",
     "output_type": "stream",
     "text": [
      "Media de ventas: 3330.1157135434123\n",
      "Mediana de ventas: 3184.8\n",
      "Desviación estándar de ventas: 1462.6659540727312\n"
     ]
    }
   ],
   "source": [
    "print(f\"Media de ventas: {media(df['ventas'])}\")\n",
    "print(f\"Mediana de ventas: {mediana(df['ventas'])}\")\n",
    "print(f\"Desviación estándar de ventas: {desviacion_estandar(df['ventas'])}\")"
   ]
  },
  {
   "cell_type": "markdown",
   "metadata": {},
   "source": [
    "Calcular la media, mediana y desviación estandar de la columna precio_venta_sugerido"
   ]
  },
  {
   "cell_type": "code",
   "execution_count": 69,
   "metadata": {},
   "outputs": [
    {
     "name": "stdout",
     "output_type": "stream",
     "text": [
      "Media de precio venta sugerido: 96.99132375802888\n",
      "Mediana de precio venta sugerido: 99.0\n",
      "Desviación estándar de precio venta sugerido: 34.87009347177173\n"
     ]
    }
   ],
   "source": [
    "print(f\"Media de precio venta sugerido: {media(df['precio_venta_sugerido'])}\")\n",
    "print(f\"Mediana de precio venta sugerido: {mediana(df['precio_venta_sugerido'])}\")\n",
    "print(f\"Desviación estándar de precio venta sugerido: {desviacion_estandar(df['precio_venta_sugerido'])}\")"
   ]
  },
  {
   "cell_type": "markdown",
   "metadata": {},
   "source": [
    "Teniendo en cuenta que hay distintos tipos de productos que se venden y no todos son muy parecidos en demanda y precio tiene sentido calcular los estadísticos de cada producto por separado.\n",
    "Para esto se puede crear una función que reciba como parámetro el nombre del producto y la columna y calcule los estadísticos."
   ]
  },
  {
   "cell_type": "code",
   "execution_count": 70,
   "metadata": {},
   "outputs": [],
   "source": [
    "def estadisticos_producto(producto, columna):\n",
    "    print(f\"Media de {producto}: {media(df[df['linea_producto'] == producto][columna])}\")\n",
    "    print(f\"Mediana de {producto}: {mediana(df[df['linea_producto'] == producto][columna])}\")\n",
    "    print(f\"Desviación estándar de {producto}: {desviacion_estandar(df[df['linea_producto'] == producto][columna])}\")"
   ]
  },
  {
   "cell_type": "markdown",
   "metadata": {},
   "source": [
    "Mirar que productos aparecen en linea_producto"
   ]
  },
  {
   "cell_type": "code",
   "execution_count": 71,
   "metadata": {},
   "outputs": [
    {
     "name": "stdout",
     "output_type": "stream",
     "text": [
      "['Motorcycles' 'Classic Cars' 'Trucks and Buses' 'Vintage Cars' 'Planes'\n",
      " 'Ships' 'Trains']\n"
     ]
    }
   ],
   "source": [
    "print(df['linea_producto'].unique())"
   ]
  },
  {
   "cell_type": "markdown",
   "metadata": {},
   "source": [
    "Ejemplo: Calcular los estadísticos para coches motos y trenes en precio_cada_pedido"
   ]
  },
  {
   "cell_type": "code",
   "execution_count": 72,
   "metadata": {},
   "outputs": [
    {
     "name": "stdout",
     "output_type": "stream",
     "text": [
      "linea_producto\n",
      "Classic Cars        949\n",
      "Vintage Cars        579\n",
      "Motorcycles         313\n",
      "Planes              304\n",
      "Trucks and Buses    295\n",
      "Ships               230\n",
      "Trains               77\n",
      "Name: count, dtype: int64\n",
      "27046.0\n"
     ]
    }
   ],
   "source": [
    "#mirar cuantas veces aparece la palabra \n",
    "print(df['linea_producto'].value_counts())\n",
    "#mirar cuanto suma el precio de todos los 304 planes\n",
    "print(df[df['linea_producto'] == 'Planes']['precio_venta_sugerido'].sum())\n"
   ]
  },
  {
   "cell_type": "code",
   "execution_count": 73,
   "metadata": {},
   "outputs": [
    {
     "name": "stdout",
     "output_type": "stream",
     "text": [
      "Media de Motorcycles: 94.55167499601654\n",
      "Mediana de Motorcycles: 93.54\n",
      "Desviación estándar de Motorcycles: 35.15903528339621\n",
      "Media de Classic Cars: 108.01172175949765\n",
      "Mediana de Classic Cars: 105.27\n",
      "Desviación estándar de Classic Cars: 39.27248615076215\n"
     ]
    }
   ],
   "source": [
    "estadisticos_producto('Motorcycles', 'precio_cada_pedido')\n",
    "estadisticos_producto('Classic Cars', 'precio_cada_pedido')"
   ]
  },
  {
   "attachments": {},
   "cell_type": "markdown",
   "metadata": {},
   "source": [
    "    b) Crear gráficos para visualizar la distribución de los datos, como histogramas y diagramas de caja."
   ]
  },
  {
   "cell_type": "code",
   "execution_count": 74,
   "metadata": {},
   "outputs": [
    {
     "ename": "ModuleNotFoundError",
     "evalue": "No module named 'seaborn'",
     "output_type": "error",
     "traceback": [
      "\u001b[0;31m---------------------------------------------------------------------------\u001b[0m",
      "\u001b[0;31mModuleNotFoundError\u001b[0m                       Traceback (most recent call last)",
      "Cell \u001b[0;32mIn[74], line 3\u001b[0m\n\u001b[1;32m      1\u001b[0m \u001b[39m#Crear gráficos para visualizar la distribución de los datos, como histogramas y diagramas de caja.\u001b[39;00m\n\u001b[1;32m      2\u001b[0m \u001b[39mimport\u001b[39;00m \u001b[39mmatplotlib\u001b[39;00m\u001b[39m.\u001b[39;00m\u001b[39mpyplot\u001b[39;00m \u001b[39mas\u001b[39;00m \u001b[39mplt\u001b[39;00m\n\u001b[0;32m----> 3\u001b[0m \u001b[39mimport\u001b[39;00m \u001b[39mseaborn\u001b[39;00m \u001b[39mas\u001b[39;00m \u001b[39msns\u001b[39;00m\n\u001b[1;32m      5\u001b[0m \u001b[39m#diagrama de cajas horizontal de precio_cada_pedido para Classic Cars\u001b[39;00m\n\u001b[1;32m      6\u001b[0m sns\u001b[39m.\u001b[39mboxplot(x\u001b[39m=\u001b[39mdf[df[\u001b[39m'\u001b[39m\u001b[39mlinea_producto\u001b[39m\u001b[39m'\u001b[39m] \u001b[39m==\u001b[39m \u001b[39m'\u001b[39m\u001b[39mClassic Cars\u001b[39m\u001b[39m'\u001b[39m][\u001b[39m'\u001b[39m\u001b[39mprecio_cada_pedido\u001b[39m\u001b[39m'\u001b[39m], color\u001b[39m=\u001b[39m\u001b[39m'\u001b[39m\u001b[39mgreen\u001b[39m\u001b[39m'\u001b[39m)\n",
      "\u001b[0;31mModuleNotFoundError\u001b[0m: No module named 'seaborn'"
     ]
    }
   ],
   "source": [
    "#Crear gráficos para visualizar la distribución de los datos, como histogramas y diagramas de caja.\n",
    "import matplotlib.pyplot as plt\n",
    "import seaborn as sns\n",
    "\n",
    "#diagrama de cajas horizontal de precio_cada_pedido para Classic Cars\n",
    "sns.boxplot(x=df[df['linea_producto'] == 'Classic Cars']['precio_cada_pedido'], color='green')\n",
    "plt.title('Diagrama de cajas y bigotes del precio de Coches clásicos')\n",
    "plt.xlabel('Precio')\n",
    "plt.show()\n",
    "\n",
    "#Histograma que muestra la distribución de cada linea_producto\n",
    "sns.histplot(data=df, x='linea_producto', hue='linea_producto', multiple='stack')\n",
    "plt.xticks(rotation=45)\n",
    "plt.title('Distribución de cada tipo de producto')\n",
    "plt.xlabel('Tipo de producto')\n",
    "plt.ylabel('Frecuencia')\n",
    "plt.show()"
   ]
  },
  {
   "attachments": {},
   "cell_type": "markdown",
   "metadata": {},
   "source": [
    "    c) Identifiquen y analicen las correlaciones entre variables."
   ]
  },
  {
   "cell_type": "markdown",
   "metadata": {},
   "source": [
    "Para ver la correlación entre las variables numéricas hay que calcular el coeficiente de relación de Pearson para ver la correlación lineal"
   ]
  },
  {
   "cell_type": "code",
   "execution_count": null,
   "metadata": {},
   "outputs": [
    {
     "ename": "ValueError",
     "evalue": "could not convert string to float: '24/02/2018'",
     "output_type": "error",
     "traceback": [
      "\u001b[0;31m---------------------------------------------------------------------------\u001b[0m",
      "\u001b[0;31mValueError\u001b[0m                                Traceback (most recent call last)",
      "\u001b[1;32m/workspaces/Programaci-n_Trabajo/jupyter.ipynb Celda 50\u001b[0m line \u001b[0;36m1\n\u001b[0;32m----> <a href='vscode-notebook-cell://codespaces%2Beffective-space-happiness-wpqqxr9r69rc555g/workspaces/Programaci-n_Trabajo/jupyter.ipynb#Y100sdnNjb2RlLXJlbW90ZQ%3D%3D?line=0'>1</a>\u001b[0m corr \u001b[39m=\u001b[39m df\u001b[39m.\u001b[39;49mcorr(method\u001b[39m=\u001b[39;49m\u001b[39m'\u001b[39;49m\u001b[39mpearson\u001b[39;49m\u001b[39m'\u001b[39;49m)\n\u001b[1;32m      <a href='vscode-notebook-cell://codespaces%2Beffective-space-happiness-wpqqxr9r69rc555g/workspaces/Programaci-n_Trabajo/jupyter.ipynb#Y100sdnNjb2RlLXJlbW90ZQ%3D%3D?line=1'>2</a>\u001b[0m \u001b[39mprint\u001b[39m(corr)\n",
      "File \u001b[0;32m~/.local/lib/python3.10/site-packages/pandas/core/frame.py:10704\u001b[0m, in \u001b[0;36mDataFrame.corr\u001b[0;34m(self, method, min_periods, numeric_only)\u001b[0m\n\u001b[1;32m  10702\u001b[0m cols \u001b[39m=\u001b[39m data\u001b[39m.\u001b[39mcolumns\n\u001b[1;32m  10703\u001b[0m idx \u001b[39m=\u001b[39m cols\u001b[39m.\u001b[39mcopy()\n\u001b[0;32m> 10704\u001b[0m mat \u001b[39m=\u001b[39m data\u001b[39m.\u001b[39;49mto_numpy(dtype\u001b[39m=\u001b[39;49m\u001b[39mfloat\u001b[39;49m, na_value\u001b[39m=\u001b[39;49mnp\u001b[39m.\u001b[39;49mnan, copy\u001b[39m=\u001b[39;49m\u001b[39mFalse\u001b[39;49;00m)\n\u001b[1;32m  10706\u001b[0m \u001b[39mif\u001b[39;00m method \u001b[39m==\u001b[39m \u001b[39m\"\u001b[39m\u001b[39mpearson\u001b[39m\u001b[39m\"\u001b[39m:\n\u001b[1;32m  10707\u001b[0m     correl \u001b[39m=\u001b[39m libalgos\u001b[39m.\u001b[39mnancorr(mat, minp\u001b[39m=\u001b[39mmin_periods)\n",
      "File \u001b[0;32m~/.local/lib/python3.10/site-packages/pandas/core/frame.py:1889\u001b[0m, in \u001b[0;36mDataFrame.to_numpy\u001b[0;34m(self, dtype, copy, na_value)\u001b[0m\n\u001b[1;32m   1887\u001b[0m \u001b[39mif\u001b[39;00m dtype \u001b[39mis\u001b[39;00m \u001b[39mnot\u001b[39;00m \u001b[39mNone\u001b[39;00m:\n\u001b[1;32m   1888\u001b[0m     dtype \u001b[39m=\u001b[39m np\u001b[39m.\u001b[39mdtype(dtype)\n\u001b[0;32m-> 1889\u001b[0m result \u001b[39m=\u001b[39m \u001b[39mself\u001b[39;49m\u001b[39m.\u001b[39;49m_mgr\u001b[39m.\u001b[39;49mas_array(dtype\u001b[39m=\u001b[39;49mdtype, copy\u001b[39m=\u001b[39;49mcopy, na_value\u001b[39m=\u001b[39;49mna_value)\n\u001b[1;32m   1890\u001b[0m \u001b[39mif\u001b[39;00m result\u001b[39m.\u001b[39mdtype \u001b[39mis\u001b[39;00m \u001b[39mnot\u001b[39;00m dtype:\n\u001b[1;32m   1891\u001b[0m     result \u001b[39m=\u001b[39m np\u001b[39m.\u001b[39marray(result, dtype\u001b[39m=\u001b[39mdtype, copy\u001b[39m=\u001b[39m\u001b[39mFalse\u001b[39;00m)\n",
      "File \u001b[0;32m~/.local/lib/python3.10/site-packages/pandas/core/internals/managers.py:1656\u001b[0m, in \u001b[0;36mBlockManager.as_array\u001b[0;34m(self, dtype, copy, na_value)\u001b[0m\n\u001b[1;32m   1654\u001b[0m         arr\u001b[39m.\u001b[39mflags\u001b[39m.\u001b[39mwriteable \u001b[39m=\u001b[39m \u001b[39mFalse\u001b[39;00m\n\u001b[1;32m   1655\u001b[0m \u001b[39melse\u001b[39;00m:\n\u001b[0;32m-> 1656\u001b[0m     arr \u001b[39m=\u001b[39m \u001b[39mself\u001b[39;49m\u001b[39m.\u001b[39;49m_interleave(dtype\u001b[39m=\u001b[39;49mdtype, na_value\u001b[39m=\u001b[39;49mna_value)\n\u001b[1;32m   1657\u001b[0m     \u001b[39m# The underlying data was copied within _interleave, so no need\u001b[39;00m\n\u001b[1;32m   1658\u001b[0m     \u001b[39m# to further copy if copy=True or setting na_value\u001b[39;00m\n\u001b[1;32m   1660\u001b[0m \u001b[39mif\u001b[39;00m na_value \u001b[39mis\u001b[39;00m lib\u001b[39m.\u001b[39mno_default:\n",
      "File \u001b[0;32m~/.local/lib/python3.10/site-packages/pandas/core/internals/managers.py:1715\u001b[0m, in \u001b[0;36mBlockManager._interleave\u001b[0;34m(self, dtype, na_value)\u001b[0m\n\u001b[1;32m   1713\u001b[0m     \u001b[39melse\u001b[39;00m:\n\u001b[1;32m   1714\u001b[0m         arr \u001b[39m=\u001b[39m blk\u001b[39m.\u001b[39mget_values(dtype)\n\u001b[0;32m-> 1715\u001b[0m     result[rl\u001b[39m.\u001b[39;49mindexer] \u001b[39m=\u001b[39m arr\n\u001b[1;32m   1716\u001b[0m     itemmask[rl\u001b[39m.\u001b[39mindexer] \u001b[39m=\u001b[39m \u001b[39m1\u001b[39m\n\u001b[1;32m   1718\u001b[0m \u001b[39mif\u001b[39;00m \u001b[39mnot\u001b[39;00m itemmask\u001b[39m.\u001b[39mall():\n",
      "\u001b[0;31mValueError\u001b[0m: could not convert string to float: '24/02/2018'"
     ]
    }
   ],
   "source": [
    "corr = df.corr(method='pearson')\n",
    "print(corr)"
   ]
  },
  {
   "cell_type": "markdown",
   "metadata": {},
   "source": [
    "Los números toman valores entre -1 y 1. Si el valor es cercano a 1, significa que hay una correlación positiva fuerte, si es cercano a -1, significa que hay una correlación negativa fuerte y si es cercano a 0, significa que no hay correlación lineal.\n",
    "\n",
    "Vamos a sustituir los números por cada tipo de correlación para entenderlo mejor. Para ello usamos un blucle for que sustituye los números por palabras."
   ]
  },
  {
   "cell_type": "code",
   "execution_count": null,
   "metadata": {},
   "outputs": [
    {
     "ename": "NameError",
     "evalue": "name 'corr' is not defined",
     "output_type": "error",
     "traceback": [
      "\u001b[0;31m---------------------------------------------------------------------------\u001b[0m",
      "\u001b[0;31mNameError\u001b[0m                                 Traceback (most recent call last)",
      "\u001b[1;32m/workspaces/Programaci-n_Trabajo/jupyter.ipynb Celda 52\u001b[0m line \u001b[0;36m1\n\u001b[0;32m----> <a href='vscode-notebook-cell://codespaces%2Beffective-space-happiness-wpqqxr9r69rc555g/workspaces/Programaci-n_Trabajo/jupyter.ipynb#Y102sdnNjb2RlLXJlbW90ZQ%3D%3D?line=0'>1</a>\u001b[0m \u001b[39mfor\u001b[39;00m i \u001b[39min\u001b[39;00m corr\u001b[39m.\u001b[39mcolumns:\n\u001b[1;32m      <a href='vscode-notebook-cell://codespaces%2Beffective-space-happiness-wpqqxr9r69rc555g/workspaces/Programaci-n_Trabajo/jupyter.ipynb#Y102sdnNjb2RlLXJlbW90ZQ%3D%3D?line=1'>2</a>\u001b[0m     \u001b[39mfor\u001b[39;00m j \u001b[39min\u001b[39;00m corr\u001b[39m.\u001b[39mcolumns:\n\u001b[1;32m      <a href='vscode-notebook-cell://codespaces%2Beffective-space-happiness-wpqqxr9r69rc555g/workspaces/Programaci-n_Trabajo/jupyter.ipynb#Y102sdnNjb2RlLXJlbW90ZQ%3D%3D?line=2'>3</a>\u001b[0m         \u001b[39mif\u001b[39;00m corr[i][j] \u001b[39m==\u001b[39m \u001b[39m1\u001b[39m:\n",
      "\u001b[0;31mNameError\u001b[0m: name 'corr' is not defined"
     ]
    }
   ],
   "source": [
    "for i in corr.columns:\n",
    "    for j in corr.columns:\n",
    "        if corr[i][j] == 1:\n",
    "            corr[i][j] = 'PERFECTA (+)'\n",
    "        elif corr[i][j] == -1:\n",
    "            corr[i][j] = 'PERFECTA (-)'\n",
    "        elif corr[i][j] < 1 and corr[i][j] >= 0.5:\n",
    "            corr[i][j] = 'FUERTE (+)'\n",
    "        elif corr[i][j] > -1 and corr[i][j] <= -0.5:\n",
    "            corr[i][j] = 'FUERTE (-)'\n",
    "        elif corr[i][j] < 0.5 and corr[i][j] >= 0.3:\n",
    "            corr[i][j] = 'MODERADA (+)'\n",
    "        elif corr[i][j] > -0.5 and corr[i][j] <= -0.3:\n",
    "            corr[i][j] = 'MODERADA (-)'\n",
    "        elif corr[i][j] < 0.3 and corr[i][j] >= 0.1:\n",
    "            corr[i][j] = 'DEBIL (+)'\n",
    "        elif corr[i][j] > -0.3 and corr[i][j] <= -0.1:\n",
    "            corr[i][j] = 'DEBIL (-)'\n",
    "        else:\n",
    "            corr[i][j] = 'NULA'\n",
    "\n",
    "print(corr)"
   ]
  },
  {
   "cell_type": "markdown",
   "metadata": {},
   "source": [
    "La recta de regresión es una línea que busca modelar la relación lineal entre una variable independiente y una variable dependiente.\n",
    "Probemos a calcular la recta de regresión de dos variables con una correlación lineal fuerte.\n",
    "Para ello vamos a utilizar la librería numpy y la función polyfit que se utiliza para calcular directamente la pendiente y la ordenada al origen de la recta de regresión."
   ]
  },
  {
   "cell_type": "code",
   "execution_count": null,
   "metadata": {},
   "outputs": [],
   "source": [
    "# Datos de precios Y ventas\n",
    "PRICEEACH = df['precio_cada_pedido'].values\n",
    "SALES = df['ventas'].values"
   ]
  },
  {
   "cell_type": "markdown",
   "metadata": {},
   "source": [
    "Hallamos los valores de m(pendiente) y b(ordenada al origen) para la recta de regression y = mx + b  "
   ]
  },
  {
   "cell_type": "code",
   "execution_count": null,
   "metadata": {},
   "outputs": [
    {
     "name": "stdout",
     "output_type": "stream",
     "text": [
      "Pendiente: 29.873129160515646\n",
      "Ordenada_al_origen: 434.4920130816187\n"
     ]
    }
   ],
   "source": [
    "pendiente, ordenada_al_origen = np.polyfit(PRICEEACH, SALES, 1)\n",
    "\n",
    "print(f\"Pendiente: {pendiente}\")\n",
    "print(f\"Ordenada_al_origen: {ordenada_al_origen}\")"
   ]
  },
  {
   "cell_type": "markdown",
   "metadata": {},
   "source": [
    "Visualizar los datos y la recta de regresión para ver que efectivamente existe una correlación precio-ventas."
   ]
  },
  {
   "cell_type": "code",
   "execution_count": null,
   "metadata": {},
   "outputs": [
    {
     "data": {
      "image/png": "[encoded data removed]",
      "text/plain": [
       "<Figure size 640x480 with 1 Axes>"
      ]
     },
     "metadata": {},
     "output_type": "display_data"
    }
   ],
   "source": [
    "\n",
    "plt.scatter(PRICEEACH, SALES, label='Datos reales')\n",
    "plt.plot(PRICEEACH, pendiente * PRICEEACH + ordenada_al_origen, color='red', label='Recta de regresión')\n",
    "plt.xlabel('precio de cada pedido')\n",
    "plt.ylabel('ventas')\n",
    "plt.legend()\n",
    "plt.show()\n"
   ]
  },
  {
   "attachments": {},
   "cell_type": "markdown",
   "metadata": {},
   "source": [
    "4. Manipulación de datos usando condicionales y bucles:"
   ]
  },
  {
   "attachments": {},
   "cell_type": "markdown",
   "metadata": {},
   "source": [
    "a) Filtrar el dataset utilizando condiciones específicas."
   ]
  },
  {
   "cell_type": "code",
   "execution_count": null,
   "metadata": {},
   "outputs": [
    {
     "name": "stdout",
     "output_type": "stream",
     "text": [
      "      ORDERNUMBER  QUANTITYORDERED  PRICEEACH  ORDERLINENUMBER     SALES  \\\n",
      "23          10417               66     113.88                2   7516.08   \n",
      "96          10403               66     180.10                9  11886.60   \n",
      "97          10417               56     164.61                4   9218.16   \n",
      "121         10400               64     150.96                9   9661.44   \n",
      "244         10341               55     147.61                8   8118.55   \n",
      "248         10403               66     131.04                6   8648.64   \n",
      "374         10412               54     110.21                5   5951.34   \n",
      "395         10341               55      75.20                7   4136.00   \n",
      "399         10405               97      93.28                5   9048.16   \n",
      "426         10424               54     133.00                5   7182.00   \n",
      "452         10406               61     137.29                3   8374.69   \n",
      "477         10422               51      95.55                2   4873.05   \n",
      "524         10407               59     119.46               11   7048.14   \n",
      "571         10407               76     185.30                2  14082.80   \n",
      "592         10342               55      65.45                1   3599.75   \n",
      "596         10405               61      73.92                4   4509.12   \n",
      "697         10412               56      98.18                8   5498.08   \n",
      "795         10402               55      55.72                2   3064.60   \n",
      "846         10419               55     139.92                2   7695.60   \n",
      "1019        10405               55     150.71                1   8289.05   \n",
      "1020        10412               60     198.13                9  11887.80   \n",
      "1114        10342               55     119.06                7   6548.30   \n",
      "1142        10406               65     161.06                1  10468.90   \n",
      "1191        10400               58     125.99                6   7307.42   \n",
      "1192        10415               51     121.75                5   6209.25   \n",
      "1239        10420               66      92.95                6   6134.70   \n",
      "1362        10407               66      66.99                4   4421.34   \n",
      "1386        10420               60      64.67               11   3880.20   \n",
      "1414        10425               55      46.82                1   2575.10   \n",
      "1461        10407               64      40.25               10   2576.00   \n",
      "1508        10409               61      29.54                1   1801.94   \n",
      "1529        10340               55      79.98                8   4398.90   \n",
      "1533        10402               59      87.60                3   5168.40   \n",
      "1609        10412               70     121.40               10   8498.00   \n",
      "1656        10407               76      94.50                6   7182.00   \n",
      "1704        10339               55     112.99               12   6214.45   \n",
      "1731        10407               59      98.65                5   5820.35   \n",
      "1732        10420               55      96.30                8   5296.50   \n",
      "1779        10339               55     195.60               13  10758.00   \n",
      "1783        10414               60     101.79                5   6107.40   \n",
      "1831        10419               55      52.66               12   2896.30   \n",
      "1905        10414               51      76.31                2   3891.81   \n",
      "1930        10405               76     154.47                3  11739.70   \n",
      "1931        10419               70     132.00                8   9240.00   \n",
      "1957        10401               64      60.05               12   3843.20   \n",
      "2052        10401               52      81.14                4   4219.28   \n",
      "2121        10340               55     117.87                2   6482.85   \n",
      "2254        10401               62      77.73                6   4819.26   \n",
      "2304        10401               56      35.35                7   1979.60   \n",
      "2359        10413               51      63.85                4   3256.35   \n",
      "2478        10339               55      71.25               15   3918.75   \n",
      "2505        10340               55      87.75                7   4826.25   \n",
      "2511        10401               85      88.75               10   7543.75   \n",
      "2614        10401               77      92.00                9   7084.00   \n",
      "\n",
      "       ORDERDATE  DAYS_SINCE_LASTORDER      STATUS       PRODUCTLINE  MSRP  \\\n",
      "23    2020-05-13                    42    Disputed       Motorcycles    95   \n",
      "96    2020-04-08                   150     Shipped       Motorcycles   193   \n",
      "97    2020-05-13                   116    Disputed       Motorcycles   193   \n",
      "121   2020-04-01                   182     Shipped      Classic Cars   136   \n",
      "244   2019-11-24                   434     Shipped       Motorcycles   150   \n",
      "248   2020-04-08                   302     Shipped       Motorcycles   150   \n",
      "374   2020-05-03                   403     Shipped  Trucks and Buses   118   \n",
      "395   2019-11-24                   585     Shipped      Classic Cars   115   \n",
      "399   2020-04-14                   447     Shipped      Classic Cars   115   \n",
      "426   2020-05-31                   427  In Process  Trucks and Buses   116   \n",
      "452   2020-04-15                   499    Disputed      Classic Cars   141   \n",
      "477   2020-05-30                   479  In Process      Vintage Cars   102   \n",
      "524   2020-04-22                   564     On Hold      Classic Cars   124   \n",
      "571   2020-04-22                   611     On Hold      Vintage Cars   170   \n",
      "592   2019-11-24                   782     Shipped      Classic Cars    77   \n",
      "596   2020-04-14                   644     Shipped      Classic Cars    77   \n",
      "697   2020-05-03                   726     Shipped  Trucks and Buses   122   \n",
      "795   2020-04-07                   850     Shipped       Motorcycles    60   \n",
      "846   2020-05-17                   861     Shipped      Classic Cars   132   \n",
      "1019  2020-04-14                  1067     Shipped      Classic Cars   169   \n",
      "1020  2020-05-03                  1049     Shipped      Classic Cars   169   \n",
      "1114  2019-11-24                  1304     Shipped      Classic Cars   146   \n",
      "1142  2020-04-15                  1189    Disputed      Classic Cars   141   \n",
      "1191  2020-04-01                  1252     Shipped      Vintage Cars   105   \n",
      "1192  2020-05-09                  1215    Disputed      Vintage Cars   105   \n",
      "1239  2020-05-29                  1242  In Process      Vintage Cars    92   \n",
      "1362  2020-04-22                  1402     On Hold      Classic Cars    71   \n",
      "1386  2020-05-29                  1389  In Process      Classic Cars    73   \n",
      "1414  2020-05-31                  1415  In Process      Classic Cars    57   \n",
      "1461  2020-04-22                  1501     On Hold      Classic Cars    50   \n",
      "1508  2020-04-23                  1547     Shipped      Vintage Cars    33   \n",
      "1529  2019-11-24                  1719     Shipped       Motorcycles    76   \n",
      "1533  2020-04-07                  1588     Shipped       Motorcycles    76   \n",
      "1609  2020-05-03                  1638     Shipped  Trucks and Buses   127   \n",
      "1656  2020-04-22                  1696     On Hold      Classic Cars    90   \n",
      "1704  2019-11-23                  1895     Shipped            Planes    68   \n",
      "1731  2020-04-22                  1771     On Hold      Classic Cars   117   \n",
      "1732  2020-05-29                  1735  In Process      Classic Cars   117   \n",
      "1779  2019-11-23                  1970     Shipped      Vintage Cars    88   \n",
      "1783  2020-05-06                  1809     On Hold      Vintage Cars    88   \n",
      "1831  2020-05-17                  1846     Shipped      Classic Cars    61   \n",
      "1905  2020-05-06                  1931     On Hold      Vintage Cars    83   \n",
      "1930  2020-04-14                  1978     Shipped      Classic Cars   140   \n",
      "1931  2020-05-17                  1946     Shipped      Classic Cars   140   \n",
      "1957  2020-04-03                  2016     On Hold            Planes    68   \n",
      "2052  2020-04-03                  2111     On Hold            Planes    72   \n",
      "2121  2019-11-24                  2311     Shipped       Motorcycles    99   \n",
      "2254  2020-04-03                  2313     On Hold      Vintage Cars    68   \n",
      "2304  2020-04-03                  2363     On Hold      Vintage Cars    43   \n",
      "2359  2020-05-05                  2386     Shipped            Trains    58   \n",
      "2478  2019-11-23                  2669     Shipped             Ships    90   \n",
      "2505  2019-11-24                  2695     Shipped            Planes    99   \n",
      "2511  2020-04-03                  2570     On Hold            Planes    99   \n",
      "2614  2020-04-03                  2673     On Hold            Planes    80   \n",
      "\n",
      "      ...                             ADDRESSLINE1          CITY POSTALCODE  \\\n",
      "23    ...                       C/ Moralzarzal, 86        Madrid      28034   \n",
      "96    ...             Berkeley Gardens 12  Brewery     Liverpool    WX1 6LT   \n",
      "97    ...                       C/ Moralzarzal, 86        Madrid      28034   \n",
      "121   ...                           3086 Ingle Ln.      San Jose      94217   \n",
      "244   ...                              Geislweg 14      Salzburg       5020   \n",
      "248   ...             Berkeley Gardens 12  Brewery     Liverpool    WX1 6LT   \n",
      "374   ...                       C/ Moralzarzal, 86        Madrid      28034   \n",
      "395   ...                              Geislweg 14      Salzburg       5020   \n",
      "399   ...                         24, place Kluber    Strasbourg      67000   \n",
      "426   ...                       C/ Moralzarzal, 86        Madrid      28034   \n",
      "452   ...                             Vinb'ltet 34     Kobenhavn       1734   \n",
      "477   ...                         7586 Pompton St.     Allentown      70267   \n",
      "524   ...                           3086 Ingle Ln.      San Jose      94217   \n",
      "571   ...                           3086 Ingle Ln.      San Jose      94217   \n",
      "592   ...                        636 St Kilda Road     Melbourne       3004   \n",
      "596   ...                         24, place Kluber    Strasbourg      67000   \n",
      "697   ...                       C/ Moralzarzal, 86        Madrid      28034   \n",
      "795   ...                        25, rue Lauriston         Paris      75016   \n",
      "846   ...                              Geislweg 14      Salzburg       5020   \n",
      "1019  ...                         24, place Kluber    Strasbourg      67000   \n",
      "1020  ...                       C/ Moralzarzal, 86        Madrid      28034   \n",
      "1114  ...                        636 St Kilda Road     Melbourne       3004   \n",
      "1142  ...                             Vinb'ltet 34     Kobenhavn       1734   \n",
      "1191  ...                           3086 Ingle Ln.      San Jose      94217   \n",
      "1192  ...                           7 Allen Street  Glen Waverly       3150   \n",
      "1239  ...  Monitor Money Building, 815 Pacific Hwy     Chatswood       2067   \n",
      "1362  ...                           3086 Ingle Ln.      San Jose      94217   \n",
      "1386  ...  Monitor Money Building, 815 Pacific Hwy     Chatswood       2067   \n",
      "1414  ...             67, rue des Cinquante Otages        Nantes      44000   \n",
      "1461  ...                           3086 Ingle Ln.      San Jose      94217   \n",
      "1508  ...  Village Close - 106 Linden Road Sandown     Singapore      69045   \n",
      "1529  ...                   Rambla de Catalu¤a, 23     Barcelona       8022   \n",
      "1533  ...                        25, rue Lauriston         Paris      75016   \n",
      "1609  ...                       C/ Moralzarzal, 86        Madrid      28034   \n",
      "1656  ...                           3086 Ingle Ln.      San Jose      94217   \n",
      "1704  ...                           2-2-8 Roppongi     Minato-ku   106-0032   \n",
      "1731  ...                           3086 Ingle Ln.      San Jose      94217   \n",
      "1732  ...  Monitor Money Building, 815 Pacific Hwy     Chatswood       2067   \n",
      "1779  ...                           2-2-8 Roppongi     Minato-ku   106-0032   \n",
      "1783  ...                       8616 Spinnaker Dr.        Boston      51003   \n",
      "1831  ...                              Geislweg 14      Salzburg       5020   \n",
      "1905  ...                       8616 Spinnaker Dr.        Boston      51003   \n",
      "1930  ...                         24, place Kluber    Strasbourg      67000   \n",
      "1931  ...                              Geislweg 14      Salzburg       5020   \n",
      "1957  ...                            7476 Moss Rd.        Newark      94019   \n",
      "2052  ...                            7476 Moss Rd.        Newark      94019   \n",
      "2121  ...                   Rambla de Catalu¤a, 23     Barcelona       8022   \n",
      "2254  ...                            7476 Moss Rd.        Newark      94019   \n",
      "2304  ...                            7476 Moss Rd.        Newark      94019   \n",
      "2359  ...                      25593 South Bay Ln.   Bridgewater      97562   \n",
      "2478  ...                           2-2-8 Roppongi     Minato-ku   106-0032   \n",
      "2505  ...                   Rambla de Catalu¤a, 23     Barcelona       8022   \n",
      "2511  ...                            7476 Moss Rd.        Newark      94019   \n",
      "2614  ...                            7476 Moss Rd.        Newark      94019   \n",
      "\n",
      "        COUNTRY CONTACTLASTNAME CONTACTFIRSTNAME DEALSIZE TOTAL_SALES  \\\n",
      "23        Spain          Freyre            Diego    Large     7516.08   \n",
      "96           UK           Devon        Elizabeth    Large    11886.60   \n",
      "97        Spain          Freyre            Diego    Large     9218.16   \n",
      "121         USA           Frick              Sue    Large     9661.44   \n",
      "244     Austria           Pipps            Georg    Large     8118.55   \n",
      "248          UK           Devon        Elizabeth    Large     8648.64   \n",
      "374       Spain          Freyre            Diego   Medium     5951.34   \n",
      "395     Austria           Pipps            Georg   Medium     4136.00   \n",
      "399      France         Citeaux       Frederique    Large     9048.16   \n",
      "426       Spain          Freyre            Diego    Large     7182.00   \n",
      "452     Denmark        Petersen            Jytte    Large     8374.69   \n",
      "477         USA              Yu            Kyung   Medium     4873.05   \n",
      "524         USA           Frick              Sue    Large     7048.14   \n",
      "571         USA           Frick              Sue    Large    14082.80   \n",
      "592   Australia        Ferguson            Peter   Medium     3599.75   \n",
      "596      France         Citeaux       Frederique   Medium     4509.12   \n",
      "697       Spain          Freyre            Diego   Medium     5498.08   \n",
      "795      France         Perrier        Dominique   Medium     3064.60   \n",
      "846     Austria           Pipps            Georg    Large     7695.60   \n",
      "1019     France         Citeaux       Frederique    Large     8289.05   \n",
      "1020      Spain          Freyre            Diego    Large    11887.80   \n",
      "1114  Australia        Ferguson            Peter   Medium     6548.30   \n",
      "1142    Denmark        Petersen            Jytte    Large    10468.90   \n",
      "1191        USA           Frick              Sue    Large     7307.42   \n",
      "1192  Australia         Connery             Sean   Medium     6209.25   \n",
      "1239  Australia          Huxley           Adrian   Medium     6134.70   \n",
      "1362        USA           Frick              Sue   Medium     4421.34   \n",
      "1386  Australia          Huxley           Adrian   Medium     3880.20   \n",
      "1414     France         Labrune           Janine    Small     2575.10   \n",
      "1461        USA           Frick              Sue    Small     2576.00   \n",
      "1508  Singapore       Victorino            Wendy    Small     1801.94   \n",
      "1529      Spain        Saavedra          Eduardo   Medium     4398.90   \n",
      "1533     France         Perrier        Dominique   Medium     5168.40   \n",
      "1609      Spain          Freyre            Diego    Large     8498.00   \n",
      "1656        USA           Frick              Sue    Large     7182.00   \n",
      "1704      Japan       Shimamura            Akiko   Medium     6214.45   \n",
      "1731        USA           Frick              Sue   Medium     5820.35   \n",
      "1732  Australia          Huxley           Adrian   Medium     5296.50   \n",
      "1779      Japan       Shimamura            Akiko    Large    10758.00   \n",
      "1783        USA         Yoshido             Juri   Medium     6107.40   \n",
      "1831    Austria           Pipps            Georg    Small     2896.30   \n",
      "1905        USA         Yoshido             Juri   Medium     3891.81   \n",
      "1930     France         Citeaux       Frederique    Large    11739.72   \n",
      "1931    Austria           Pipps            Georg    Large     9240.00   \n",
      "1957        USA           Brown          William   Medium     3843.20   \n",
      "2052        USA           Brown          William   Medium     4219.28   \n",
      "2121      Spain        Saavedra          Eduardo   Medium     6482.85   \n",
      "2254        USA           Brown          William   Medium     4819.26   \n",
      "2304        USA           Brown          William    Small     1979.60   \n",
      "2359        USA            King            Julie   Medium     3256.35   \n",
      "2478      Japan       Shimamura            Akiko   Medium     3918.75   \n",
      "2505      Spain        Saavedra          Eduardo   Medium     4826.25   \n",
      "2511        USA           Brown          William    Large     7543.75   \n",
      "2614        USA           Brown          William    Large     7084.00   \n",
      "\n",
      "     ORDER_STATUS DISCOUNT  \n",
      "23      Pendiente   -18.88  \n",
      "96      Entregado    12.90  \n",
      "97      Pendiente    28.39  \n",
      "121     Entregado   -14.96  \n",
      "244     Entregado     2.39  \n",
      "248     Entregado    18.96  \n",
      "374     Entregado     7.79  \n",
      "395     Entregado    39.80  \n",
      "399     Entregado    21.72  \n",
      "426     Pendiente   -17.00  \n",
      "452     Pendiente     3.71  \n",
      "477     Pendiente     6.45  \n",
      "524     Pendiente     4.54  \n",
      "571     Pendiente   -15.30  \n",
      "592     Entregado    11.55  \n",
      "596     Entregado     3.08  \n",
      "697     Entregado    23.82  \n",
      "795     Entregado     4.28  \n",
      "846     Entregado    -7.92  \n",
      "1019    Entregado    18.29  \n",
      "1020    Entregado   -29.13  \n",
      "1114    Entregado    26.94  \n",
      "1142    Pendiente   -20.06  \n",
      "1191    Entregado   -20.99  \n",
      "1192    Pendiente   -16.75  \n",
      "1239    Pendiente    -0.95  \n",
      "1362    Pendiente     4.01  \n",
      "1386    Pendiente     8.33  \n",
      "1414    Pendiente    10.18  \n",
      "1461    Pendiente     9.75  \n",
      "1508    Entregado     3.46  \n",
      "1529    Entregado    -3.98  \n",
      "1533    Entregado   -11.60  \n",
      "1609    Entregado     5.60  \n",
      "1656    Pendiente    -4.50  \n",
      "1704    Entregado   -44.99  \n",
      "1731    Pendiente    18.35  \n",
      "1732    Pendiente    20.70  \n",
      "1779    Entregado  -107.60  \n",
      "1783    Pendiente   -13.79  \n",
      "1831    Entregado     8.34  \n",
      "1905    Pendiente     6.69  \n",
      "1930    Entregado   -14.47  \n",
      "1931    Entregado     8.00  \n",
      "1957    Pendiente     7.95  \n",
      "2052    Pendiente    -9.14  \n",
      "2121    Entregado   -18.87  \n",
      "2254    Pendiente    -9.73  \n",
      "2304    Pendiente     7.65  \n",
      "2359    Entregado    -5.85  \n",
      "2478    Entregado    18.75  \n",
      "2505    Entregado    11.25  \n",
      "2511    Pendiente    10.25  \n",
      "2614    Pendiente   -12.00  \n",
      "\n",
      "[54 rows x 23 columns]\n"
     ]
    }
   ],
   "source": [
    "import pandas as pd\n",
    "\n",
    "archivo = 'Nuevo_archivo.csv'\n",
    "data = pd.read_csv(archivo)\n",
    "\n",
    "#Filtramos las filas donde QUANTITYORDERED >50\n",
    "condicion_filtrado = data['QUANTITYORDERED'] > 50\n",
    "\n",
    "# Aplicar el filtrado utilizando la función loc\n",
    "datos_filtrados = data.loc[condicion_filtrado]\n",
    "print(datos_filtrados)\n"
   ]
  },
  {
   "attachments": {},
   "cell_type": "markdown",
   "metadata": {},
   "source": [
    "b) Crear nuevas columnas aplicando funciones o cálculos basados en\n",
    "valores de otras columnas."
   ]
  },
  {
   "cell_type": "code",
   "execution_count": 75,
   "metadata": {},
   "outputs": [],
   "source": [
    "import pandas as pd\n",
    "\n",
    "# Cargamos los datos\n",
    "df = pd.read_csv('Auto_Sales_data.csv')\n",
    "\n",
    "# 1. Margen de Ganancia\n",
    "df['Margen_Ganancia'] = (df['SALES'] - (df['QUANTITYORDERED'] * df['PRICEEACH'])) / df['SALES']\n",
    "\n",
    "# 2. Categoría de Ventas\n",
    "def categorizar_ventas(sales):\n",
    "    if sales < 5000:\n",
    "        return 'Pequeña'\n",
    "    elif sales < 20000:\n",
    "        return 'Mediana'\n",
    "    else:\n",
    "        return 'Grande'\n",
    "\n",
    "df['Categoria_Ventas'] = df['SALES'].apply(categorizar_ventas) \n",
    "\n",
    "#la función apply() es utilizada para aplicar una función definida a cada elemento columna\n",
    "\n",
    "# 3. Tiempo desde la Última Compra\n",
    "def clasificar_tiempo(dias):\n",
    "    if dias <= 30:\n",
    "        return 'Reciente'\n",
    "    elif dias <= 90:\n",
    "        return 'Moderado'\n",
    "    else:\n",
    "        return 'Distante'\n",
    "    \n",
    "df['Clasificacion_Compra'] = df['DAYS_SINCE_LASTORDER'].apply(clasificar_tiempo)\n",
    "\n",
    "# 4. Estado de Pedido\n",
    "def estado_pedido(status):\n",
    "    if status in ['Shipped', 'Resolved']:\n",
    "        return 'Completado'\n",
    "    elif status in ['In Process', 'On Hold']:\n",
    "        return 'En Proceso'\n",
    "    else:\n",
    "        return 'Retrasado'\n",
    "\n",
    "df['Estado_Pedido'] = df['STATUS'].apply(estado_pedido)\n",
    "\n",
    "# Guardamos los cambios\n",
    "df.to_csv('Auto_Sales_data_modificado.csv', index=False)"
   ]
  },
  {
   "attachments": {},
   "cell_type": "markdown",
   "metadata": {},
   "source": [
    "c) Utilizar bucles para iterar sobre filas o columnas y realizar cálculos."
   ]
  },
  {
   "cell_type": "code",
   "execution_count": 76,
   "metadata": {},
   "outputs": [
    {
     "name": "stdout",
     "output_type": "stream",
     "text": [
      "Promedio de ORDERNUMBER: 10259.761558063341\n",
      "Promedio de QUANTITYORDERED: 35.10302147797597\n",
      "Promedio de PRICEEACH: 101.09895158354568\n",
      "Promedio de ORDERLINENUMBER: 6.4910811794685115\n",
      "Promedio de SALES: 3553.0475828176195\n",
      "Promedio de DAYS_SINCE_LASTORDER: 1757.085911903895\n",
      "Promedio de MSRP: 100.69166363305425\n",
      "Promedio de Margen_Ganancia: -2.1749948591073273e-09\n",
      "Promedio de NuevaColumna: 3553.047604659629\n"
     ]
    }
   ],
   "source": [
    "import pandas as pd\n",
    "\n",
    "# Cargar el archivo CSV\n",
    "df = pd.read_csv('Auto_Sales_data_modificado.csv')\n",
    "\n",
    "# Iterar sobre las filas\n",
    "for index, row in df.iterrows():  #La funcion df.iterrows se utiliza para iterar sobre las filas de un csv\n",
    "    # Realizar cálculos con los datos de cada fila\n",
    "    df.at[index, 'NuevaColumna'] = row['QUANTITYORDERED'] * row['PRICEEACH'] #row representa una fila del csv\n",
    "\n",
    "# Iterar sobre las columnas\n",
    "for column in df.columns:\n",
    "    # Realizar cálculos con los datos de cada columna\n",
    "    if pd.api.types.is_numeric_dtype(df[column]):   #La funcion pd.api.types.is_numeric_dtype se utiliza para verificar si un tipo de datos es numérico\n",
    "        print(f'Promedio de {column}: {df[column].mean()}')\n",
    "\n",
    "# Guardar el DataFrame modificado en un nuevo archivo CSV\n",
    "df.to_csv('Auto_Sales_data_modificado_resultado.csv', index=False)\n",
    "\n",
    " #La funcion index=False se ultiliza para uardar el DataFrame en un archivo CSV sin incluir la columna de índices"
   ]
  },
  {
   "attachments": {},
   "cell_type": "markdown",
   "metadata": {},
   "source": [
    "5. Manejo de excepciones:"
   ]
  },
  {
   "attachments": {},
   "cell_type": "markdown",
   "metadata": {},
   "source": [
    "a) Utilizar bloques try-except para manejar errores o excepciones al leer\n",
    "o procesar el dataset."
   ]
  },
  {
   "cell_type": "markdown",
   "metadata": {},
   "source": []
  },
  {
   "cell_type": "code",
   "execution_count": 77,
   "metadata": {},
   "outputs": [
    {
     "name": "stdout",
     "output_type": "stream",
     "text": [
      "('Faltan las siguientes columnas requeridas : ', {'numero_del_pedido, cantidad_de_pedidos, precio_cada_pedido, numero_linea_pedido, ventas, fecha_pedido, dias_desde_ultimo_pedido, status, linea_producto, precio_venta_sugerido, codigo_producto, nombre_cliente, telefono, direccion_linea1, ciudad, codigo_postal, pais, apellido_contacto, nombre_contacto, tamaño_acuerdo'})\n"
     ]
    }
   ],
   "source": [
    "import pandas as pd \n",
    "class InvalidDataError(Exception):\n",
    "    pass\n",
    "\n",
    "def process_dataset(df):\n",
    "    df['columna']=df['columna'].apply(lambda x: x.lower())\n",
    "    return df\n",
    "#Bloque try-except\n",
    "try:\n",
    "    df=pd.read_csv('Auto_Sales_data.csv')\n",
    "    #Comprobamos si faltan columnas\n",
    "    columnas_requeridas=['numero_del_pedido', 'cantidad_de_pedidos','precio_cada_pedido','numero_linea_pedido','ventas','fecha_pedido','dias_desde_ultimo_pedido','status','linea_producto','precio_venta_sugerido','codigo_producto','nombre_cliente','telefono','direccion_linea1','ciudad','codigo_postal','pais','apellido_contacto','nombre_contacto','tamaño_acuerdo']\n",
    "    columnas_q_faltan=[col for col in columnas_requeridas if col not in df.columns]\n",
    "    if columnas_q_faltan:\n",
    "        raise InvalidDataError(f\"Faltan las siguientes columnas requeridas : \",{', '.join(columnas_q_faltan)})\n",
    "    \n",
    "    df_procesado=process_dataset(df)\n",
    "#Varias excepciones\n",
    "except pd.errors.EmptyDataError:\n",
    "    print(\"El archivo CSV está vacío.\")\n",
    "except pd.errors.ParserError:\n",
    "    print(\"Hubo un error al analizar el CSV\")\n",
    "except FileNotFoundError:\n",
    "    print(\"No se encontró el archivo CSV.\")\n",
    "except InvalidDataError as e:\n",
    "    print(e)\n",
    "except Exception as e:\n",
    "    print(f\"Ocurrió un error inesperado: {e}\")\n"
   ]
  },
  {
   "attachments": {},
   "cell_type": "markdown",
   "metadata": {},
   "source": [
    "b) Crear excepciones personalizadas para manejar situaciones\n",
    "específicas del análisis."
   ]
  },
  {
   "cell_type": "code",
   "execution_count": null,
   "metadata": {},
   "outputs": [],
   "source": []
  }
 ],
 "metadata": {
  "kernelspec": {
   "display_name": "Python 3",
   "language": "python",
   "name": "python3"
  },
  "language_info": {
   "codemirror_mode": {
    "name": "ipython",
    "version": 3
   },
   "file_extension": ".py",
   "mimetype": "text/x-python",
   "name": "python",
   "nbconvert_exporter": "python",
   "pygments_lexer": "ipython3",
   "version": "3.10.13"
  },
  "orig_nbformat": 4,
  "vscode": {
   "interpreter": {
    "hash": "aee8b7b246df8f9039afb4144a1f6fd8d2ca17a180786b69acc140d282b71a49"
   }
  }
 },
 "nbformat": 4,
 "nbformat_minor": 2
}
